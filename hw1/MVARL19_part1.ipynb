{
  "nbformat": 4,
  "nbformat_minor": 0,
  "metadata": {
    "kernelspec": {
      "name": "python3",
      "display_name": "Python 3"
    },
    "language_info": {
      "codemirror_mode": {
        "name": "ipython",
        "version": 3
      },
      "file_extension": ".py",
      "mimetype": "text/x-python",
      "name": "python",
      "nbconvert_exporter": "python",
      "pygments_lexer": "ipython3",
      "version": "3.6.8"
    },
    "colab": {
      "name": "MVARL19_part1.ipynb",
      "provenance": [],
      "collapsed_sections": [],
      "toc_visible": true
    },
    "accelerator": "GPU"
  },
  "cells": [
    {
      "cell_type": "markdown",
      "metadata": {
        "id": "4P3WM-hVOPfo",
        "colab_type": "text"
      },
      "source": [
        "# Reinforcement Learning in Finite MDPs"
      ]
    },
    {
      "cell_type": "code",
      "metadata": {
        "id": "E9_DLZvWQzhb",
        "colab_type": "code",
        "colab": {}
      },
      "source": [
        "!git clone https://github.com/rlgammazero/mvarl_hands_on.git > /dev/null 2>&1"
      ],
      "execution_count": 0,
      "outputs": []
    },
    {
      "cell_type": "markdown",
      "metadata": {
        "id": "wnzUJeyJOPfq",
        "colab_type": "text"
      },
      "source": [
        "## MDPs"
      ]
    },
    {
      "cell_type": "code",
      "metadata": {
        "id": "RcWJSw_uOPfr",
        "colab_type": "code",
        "colab": {}
      },
      "source": [
        "import sys\n",
        "sys.path.insert(0, './mvarl_hands_on/utils')\n",
        "import numpy as np\n",
        "from scipy.special import softmax # for SARSA\n",
        "import matplotlib.pyplot as plt\n",
        "import json\n",
        "import math\n",
        "from cliffwalk import CliffWalk\n",
        "from test_env import ToyEnv1"
      ],
      "execution_count": 0,
      "outputs": []
    },
    {
      "cell_type": "markdown",
      "metadata": {
        "id": "ym-B_4HaOPfu",
        "colab_type": "text"
      },
      "source": [
        "Setting up the environment"
      ]
    },
    {
      "cell_type": "code",
      "metadata": {
        "id": "rVR5qYoLOPfv",
        "colab_type": "code",
        "outputId": "eb00d618-7298-48d3-9a92-813e64cda79f",
        "colab": {
          "base_uri": "https://localhost:8080/",
          "height": 330
        }
      },
      "source": [
        "env = CliffWalk(proba_succ=0.98)\n",
        "\n",
        "####################################################################################\n",
        "# You probably want to test smaller enviroments before\n",
        "#env = ToyEnv1(gamma=0.95)\n",
        "####################################################################################\n",
        "\n",
        "# Useful attributes\n",
        "print(\"Set of states:\", env.states)\n",
        "print(\"Set of actions:\", env.actions)\n",
        "print(\"Number of states: \", env.Ns)\n",
        "print(\"Number of actions: \", env.Na)\n",
        "print(\"P has shape: \", env.P.shape)  # P[s, a, s'] = env.P[s, a, s']\n",
        "print(\"discount factor: \", env.gamma)\n",
        "print(\"\")\n",
        "\n",
        "# Usefult methods\n",
        "state = env.reset() # get initial state\n",
        "print(\"initial state: \", state)\n",
        "print(\"reward at (s=1, a=3,s'=2): \", env.reward_func(1,3,2))\n",
        "print(\"\")\n",
        "\n",
        "# A random policy\n",
        "policy = np.random.randint(env.Na, size = (env.Ns,))\n",
        "print(\"random policy = \", policy)\n",
        "\n",
        "# Interacting with the environment\n",
        "print(\"(s, a, s', r):\")\n",
        "for time in range(4):\n",
        "    action = policy[state]\n",
        "    next_state, reward, done, info = env.step(action)\n",
        "    print(state, action, next_state, reward)\n",
        "    if done:\n",
        "        break\n",
        "    state = next_state\n",
        "print(\"\")"
      ],
      "execution_count": 3,
      "outputs": [
        {
          "output_type": "stream",
          "text": [
            "Set of states: range(0, 48)\n",
            "Set of actions: [0, 1, 2, 3]\n",
            "Number of states:  48\n",
            "Number of actions:  4\n",
            "P has shape:  (48, 4, 48)\n",
            "discount factor:  0.99\n",
            "\n",
            "initial state:  36\n",
            "reward at (s=1, a=3,s'=2):  0.6\n",
            "\n",
            "random policy =  [2 2 0 0 0 2 2 1 2 0 0 0 3 0 0 3 3 0 3 3 2 1 2 0 0 3 2 3 0 1 2 3 0 3 3 1 0\n",
            " 2 2 2 0 1 3 2 1 1 0 1]\n",
            "(s, a, s', r):\n",
            "36 0 37 0.6\n",
            "37 2 36 0.0\n",
            "36 0 37 0.6\n",
            "37 2 36 0.0\n",
            "\n"
          ],
          "name": "stdout"
        }
      ]
    },
    {
      "cell_type": "markdown",
      "metadata": {
        "id": "QqBQPHRuB3Ze",
        "colab_type": "text"
      },
      "source": [
        "# Nouvelle section"
      ]
    },
    {
      "cell_type": "markdown",
      "metadata": {
        "id": "AUlNvT3cOPfx",
        "colab_type": "text"
      },
      "source": [
        "## Question 1: Value iteration\n",
        "1. Write a function applying the optimal Bellman operator on a provided Q function: $Q_1 = LQ_0, \\; Q_0\\in \\mathbb{R}^{S\\times A}$\n",
        "2. Write a function implementing Value Iteration (VI) with $\\infty$-norm stopping condition (reuse function implemented in 1)\n",
        "3. Evaluate the convergence of your estimate, i.e., plot the value $\\|V_n - V^\\star\\|_{\\infty}$"
      ]
    },
    {
      "cell_type": "code",
      "metadata": {
        "id": "R8TLRx6MOPfy",
        "colab_type": "code",
        "colab": {}
      },
      "source": [
        "# --------------\n",
        "# Point 1\n",
        "# --------------\n",
        "def bellman_operator(Q0, Ns, Na, R, P):\n",
        "    Q1 = np.zeros((Ns,Na))\n",
        "    for s in range(Ns) :\n",
        "      for a in range(Na):\n",
        "        Q1[s,a] = np.vdot(P[s,a,:],R[s,a,:]) + env.gamma*np.dot(P[s,a,:],np.max(Q0,axis=1))\n",
        "    greedy_policy = np.argmax(Q1,axis=1)\n",
        "    return Q1, greedy_policy"
      ],
      "execution_count": 0,
      "outputs": []
    },
    {
      "cell_type": "code",
      "metadata": {
        "id": "jj65cQk5OPf0",
        "colab_type": "code",
        "colab": {}
      },
      "source": [
        "# --------------\n",
        "# Point 2\n",
        "# --------------\n",
        "def value_iteration(Q0, env, epsilon=1e-5):\n",
        "  rmax = np.max(np.abs(env.R))\n",
        "  K = int(np.log(rmax/epsilon)/np.log(1/env.gamma))+1\n",
        "  greedy_policy = np.argmax(Q0,axis=1)\n",
        "  Q = Q0\n",
        "  Q_history = [Q]\n",
        "  for k in range(K):\n",
        "    [Q, greedy_policy] = bellman_operator(Q,env.Ns,env.Na,env.R,env.P)\n",
        "    Q_history.append(Q)\n",
        "  return Q, greedy_policy, Q_history"
      ],
      "execution_count": 0,
      "outputs": []
    },
    {
      "cell_type": "code",
      "metadata": {
        "id": "W_lBe6q6OPf2",
        "colab_type": "code",
        "outputId": "9f065c3e-3cbf-40ef-cc5d-af1cda02faf4",
        "colab": {
          "base_uri": "https://localhost:8080/",
          "height": 312
        }
      },
      "source": [
        "# --------------\n",
        "# Point 3\n",
        "# --------------\n",
        "with open(\"./mvarl_hands_on/data/Q_opts.json\", \"r\") as fp:\n",
        "    Qopts = json.load(fp)\n",
        "Qstar = Qopts[\"{}_{}\".format(type(env).__name__,env.gamma)]\n",
        "Q0 = np.random.rand(env.Ns,env.Na)\n",
        "Q, greedy_policy, Q_history = value_iteration(Q0,env,epsilon=1e-5)\n",
        "norm_values=[np.max(np.abs(Q-Qstar)) for Q in Q_history]\n",
        "\n",
        "\n",
        "\n",
        "plt.plot(norm_values)\n",
        "plt.xlabel('Iteration')\n",
        "plt.ylabel('Error')\n",
        "plt.title(\"Q-learning: Convergence of Q\")"
      ],
      "execution_count": 6,
      "outputs": [
        {
          "output_type": "execute_result",
          "data": {
            "text/plain": [
              "Text(0.5, 1.0, 'Q-learning: Convergence of Q')"
            ]
          },
          "metadata": {
            "tags": []
          },
          "execution_count": 6
        },
        {
          "output_type": "display_data",
          "data": {
            "image/png": "[encoded data removed]",
            "text/plain": [
              "<Figure size 432x288 with 1 Axes>"
            ]
          },
          "metadata": {
            "tags": []
          }
        }
      ]
    },
    {
      "cell_type": "code",
      "metadata": {
        "id": "FbzFs3tDvcJy",
        "colab_type": "code",
        "outputId": "cab9ce61-682c-4897-c6f7-b3184f439d8d",
        "colab": {
          "base_uri": "https://localhost:8080/",
          "height": 1000
        }
      },
      "source": [
        "state = env.reset()\n",
        "env.render()\n",
        "for i in range(50):\n",
        "    action = greedy_policy[state]\n",
        "    state, reward, done, _ = env.step(action)\n",
        "    env.render()"
      ],
      "execution_count": 7,
      "outputs": [
        {
          "output_type": "stream",
          "text": [
            "+-----------------------+\n",
            "| : : : : : : : : : : : |\n",
            "| : : : : : : : : : : : |\n",
            "| : : : : : : : : : : : |\n",
            "|\u001b[43mS\u001b[0m:x:x:x:x:x:x:x:x:x:x:G|\n",
            "+-----------------------+\n",
            "\n",
            "+-----------------------+\n",
            "| : : : : : : : : : : : |\n",
            "| : : : : : : : : : : : |\n",
            "|\u001b[43m_\u001b[0m: : : : : : : : : : : |\n",
            "|S:x:x:x:x:x:x:x:x:x:x:G|\n",
            "+-----------------------+\n",
            "  (up)\n",
            "+-----------------------+\n",
            "| : : : : : : : : : : : |\n",
            "| : : : : : : : : : : : |\n",
            "| :\u001b[43m_\u001b[0m: : : : : : : : : : |\n",
            "|S:x:x:x:x:x:x:x:x:x:x:G|\n",
            "+-----------------------+\n",
            "  (right)\n",
            "+-----------------------+\n",
            "| : : : : : : : : : : : |\n",
            "| : : : : : : : : : : : |\n",
            "| : :\u001b[43m_\u001b[0m: : : : : : : : : |\n",
            "|S:x:x:x:x:x:x:x:x:x:x:G|\n",
            "+-----------------------+\n",
            "  (right)\n",
            "+-----------------------+\n",
            "| : : : : : : : : : : : |\n",
            "| : : : : : : : : : : : |\n",
            "| : : :\u001b[43m_\u001b[0m: : : : : : : : |\n",
            "|S:x:x:x:x:x:x:x:x:x:x:G|\n",
            "+-----------------------+\n",
            "  (right)\n",
            "+-----------------------+\n",
            "| : : : : : : : : : : : |\n",
            "| : : : : : : : : : : : |\n",
            "| : : : :\u001b[43m_\u001b[0m: : : : : : : |\n",
            "|S:x:x:x:x:x:x:x:x:x:x:G|\n",
            "+-----------------------+\n",
            "  (right)\n",
            "+-----------------------+\n",
            "| : : : : : : : : : : : |\n",
            "| : : : : : : : : : : : |\n",
            "| : : : : :\u001b[43m_\u001b[0m: : : : : : |\n",
            "|S:x:x:x:x:x:x:x:x:x:x:G|\n",
            "+-----------------------+\n",
            "  (right)\n",
            "+-----------------------+\n",
            "| : : : : : : : : : : : |\n",
            "| : : : : : : : : : : : |\n",
            "| : : : : : :\u001b[43m_\u001b[0m: : : : : |\n",
            "|S:x:x:x:x:x:x:x:x:x:x:G|\n",
            "+-----------------------+\n",
            "  (right)\n",
            "+-----------------------+\n",
            "| : : : : : : : : : : : |\n",
            "| : : : : : : : : : : : |\n",
            "| : : : : : : :\u001b[43m_\u001b[0m: : : : |\n",
            "|S:x:x:x:x:x:x:x:x:x:x:G|\n",
            "+-----------------------+\n",
            "  (right)\n",
            "+-----------------------+\n",
            "| : : : : : : : : : : : |\n",
            "| : : : : : : :\u001b[43m_\u001b[0m: : : : |\n",
            "| : : : : : : : : : : : |\n",
            "|S:x:x:x:x:x:x:x:x:x:x:G|\n",
            "+-----------------------+\n",
            "  (right)\n",
            "+-----------------------+\n",
            "| : : : : : : : : : : : |\n",
            "| : : : : : : : :\u001b[43m_\u001b[0m: : : |\n",
            "| : : : : : : : : : : : |\n",
            "|S:x:x:x:x:x:x:x:x:x:x:G|\n",
            "+-----------------------+\n",
            "  (right)\n",
            "+-----------------------+\n",
            "| : : : : : : : : : : : |\n",
            "| : : : : : : : : :\u001b[43m_\u001b[0m: : |\n",
            "| : : : : : : : : : : : |\n",
            "|S:x:x:x:x:x:x:x:x:x:x:G|\n",
            "+-----------------------+\n",
            "  (right)\n",
            "+-----------------------+\n",
            "| : : : : : : : : : : : |\n",
            "| : : : : : : : : : :\u001b[43m_\u001b[0m: |\n",
            "| : : : : : : : : : : : |\n",
            "|S:x:x:x:x:x:x:x:x:x:x:G|\n",
            "+-----------------------+\n",
            "  (right)\n",
            "+-----------------------+\n",
            "| : : : : : : : : : : : |\n",
            "| : : : : : : : : : : :\u001b[43m_\u001b[0m|\n",
            "| : : : : : : : : : : : |\n",
            "|S:x:x:x:x:x:x:x:x:x:x:G|\n",
            "+-----------------------+\n",
            "  (right)\n",
            "+-----------------------+\n",
            "| : : : : : : : : : : : |\n",
            "| : : : : : : : : : : : |\n",
            "| : : : : : : : : : : :\u001b[43m_\u001b[0m|\n",
            "|S:x:x:x:x:x:x:x:x:x:x:G|\n",
            "+-----------------------+\n",
            "  (down)\n",
            "+-----------------------+\n",
            "| : : : : : : : : : : : |\n",
            "| : : : : : : : : : : : |\n",
            "| : : : : : : : : : : : |\n",
            "|S:x:x:x:x:x:x:x:x:x:x:\u001b[42mG\u001b[0m|\n",
            "+-----------------------+\n",
            "  (down)\n",
            "+-----------------------+\n",
            "| : : : : : : : : : : : |\n",
            "| : : : : : : : : : : : |\n",
            "| : : : : : : : : : : : |\n",
            "|\u001b[43mS\u001b[0m:x:x:x:x:x:x:x:x:x:x:G|\n",
            "+-----------------------+\n",
            "  (right)\n",
            "+-----------------------+\n",
            "| : : : : : : : : : : : |\n",
            "| : : : : : : : : : : : |\n",
            "|\u001b[43m_\u001b[0m: : : : : : : : : : : |\n",
            "|S:x:x:x:x:x:x:x:x:x:x:G|\n",
            "+-----------------------+\n",
            "  (up)\n",
            "+-----------------------+\n",
            "| : : : : : : : : : : : |\n",
            "| : : : : : : : : : : : |\n",
            "| :\u001b[43m_\u001b[0m: : : : : : : : : : |\n",
            "|S:x:x:x:x:x:x:x:x:x:x:G|\n",
            "+-----------------------+\n",
            "  (right)\n",
            "+-----------------------+\n",
            "| : : : : : : : : : : : |\n",
            "| : : : : : : : : : : : |\n",
            "| : :\u001b[43m_\u001b[0m: : : : : : : : : |\n",
            "|S:x:x:x:x:x:x:x:x:x:x:G|\n",
            "+-----------------------+\n",
            "  (right)\n",
            "+-----------------------+\n",
            "| : : : : : : : : : : : |\n",
            "| : : : : : : : : : : : |\n",
            "| : : :\u001b[43m_\u001b[0m: : : : : : : : |\n",
            "|S:x:x:x:x:x:x:x:x:x:x:G|\n",
            "+-----------------------+\n",
            "  (right)\n",
            "+-----------------------+\n",
            "| : : : : : : : : : : : |\n",
            "| : : : : : : : : : : : |\n",
            "| : : : :\u001b[43m_\u001b[0m: : : : : : : |\n",
            "|S:x:x:x:x:x:x:x:x:x:x:G|\n",
            "+-----------------------+\n",
            "  (right)\n",
            "+-----------------------+\n",
            "| : : : : : : : : : : : |\n",
            "| : : : : : : : : : : : |\n",
            "| : : : : :\u001b[43m_\u001b[0m: : : : : : |\n",
            "|S:x:x:x:x:x:x:x:x:x:x:G|\n",
            "+-----------------------+\n",
            "  (right)\n",
            "+-----------------------+\n",
            "| : : : : : : : : : : : |\n",
            "| : : : : : : : : : : : |\n",
            "| : : : : : :\u001b[43m_\u001b[0m: : : : : |\n",
            "|S:x:x:x:x:x:x:x:x:x:x:G|\n",
            "+-----------------------+\n",
            "  (right)\n",
            "+-----------------------+\n",
            "| : : : : : : : : : : : |\n",
            "| : : : : : : : : : : : |\n",
            "| : : : : : : :\u001b[43m_\u001b[0m: : : : |\n",
            "|S:x:x:x:x:x:x:x:x:x:x:G|\n",
            "+-----------------------+\n",
            "  (right)\n",
            "+-----------------------+\n",
            "| : : : : : : : : : : : |\n",
            "| : : : : : : : : : : : |\n",
            "| : : : : : : : :\u001b[43m_\u001b[0m: : : |\n",
            "|S:x:x:x:x:x:x:x:x:x:x:G|\n",
            "+-----------------------+\n",
            "  (right)\n",
            "+-----------------------+\n",
            "| : : : : : : : : : : : |\n",
            "| : : : : : : : : : : : |\n",
            "| : : : : : : : : :\u001b[43m_\u001b[0m: : |\n",
            "|S:x:x:x:x:x:x:x:x:x:x:G|\n",
            "+-----------------------+\n",
            "  (right)\n",
            "+-----------------------+\n",
            "| : : : : : : : : : : : |\n",
            "| : : : : : : : : : : : |\n",
            "| : : : : : : : : : :\u001b[43m_\u001b[0m: |\n",
            "|S:x:x:x:x:x:x:x:x:x:x:G|\n",
            "+-----------------------+\n",
            "  (right)\n",
            "+-----------------------+\n",
            "| : : : : : : : : : : : |\n",
            "| : : : : : : : : : : : |\n",
            "| : : : : : : : : : : :\u001b[43m_\u001b[0m|\n",
            "|S:x:x:x:x:x:x:x:x:x:x:G|\n",
            "+-----------------------+\n",
            "  (right)\n",
            "+-----------------------+\n",
            "| : : : : : : : : : : : |\n",
            "| : : : : : : : : : : : |\n",
            "| : : : : : : : : : : : |\n",
            "|S:x:x:x:x:x:x:x:x:x:x:\u001b[42mG\u001b[0m|\n",
            "+-----------------------+\n",
            "  (down)\n",
            "+-----------------------+\n",
            "| : : : : : : : : : : : |\n",
            "| : : : : : : : : : : : |\n",
            "| : : : : : : : : : : : |\n",
            "|\u001b[43mS\u001b[0m:x:x:x:x:x:x:x:x:x:x:G|\n",
            "+-----------------------+\n",
            "  (right)\n",
            "+-----------------------+\n",
            "| : : : : : : : : : : : |\n",
            "| : : : : : : : : : : : |\n",
            "|\u001b[43m_\u001b[0m: : : : : : : : : : : |\n",
            "|S:x:x:x:x:x:x:x:x:x:x:G|\n",
            "+-----------------------+\n",
            "  (up)\n",
            "+-----------------------+\n",
            "| : : : : : : : : : : : |\n",
            "| : : : : : : : : : : : |\n",
            "| :\u001b[43m_\u001b[0m: : : : : : : : : : |\n",
            "|S:x:x:x:x:x:x:x:x:x:x:G|\n",
            "+-----------------------+\n",
            "  (right)\n",
            "+-----------------------+\n",
            "| : : : : : : : : : : : |\n",
            "| : : : : : : : : : : : |\n",
            "| : :\u001b[43m_\u001b[0m: : : : : : : : : |\n",
            "|S:x:x:x:x:x:x:x:x:x:x:G|\n",
            "+-----------------------+\n",
            "  (right)\n",
            "+-----------------------+\n",
            "| : : : : : : : : : : : |\n",
            "| : : : : : : : : : : : |\n",
            "| : : :\u001b[43m_\u001b[0m: : : : : : : : |\n",
            "|S:x:x:x:x:x:x:x:x:x:x:G|\n",
            "+-----------------------+\n",
            "  (right)\n",
            "+-----------------------+\n",
            "| : : : : : : : : : : : |\n",
            "| : : : : : : : : : : : |\n",
            "| : : : :\u001b[43m_\u001b[0m: : : : : : : |\n",
            "|S:x:x:x:x:x:x:x:x:x:x:G|\n",
            "+-----------------------+\n",
            "  (right)\n",
            "+-----------------------+\n",
            "| : : : : : : : : : : : |\n",
            "| : : : : : : : : : : : |\n",
            "| : : : : :\u001b[43m_\u001b[0m: : : : : : |\n",
            "|S:x:x:x:x:x:x:x:x:x:x:G|\n",
            "+-----------------------+\n",
            "  (right)\n",
            "+-----------------------+\n",
            "| : : : : : : : : : : : |\n",
            "| : : : : : : : : : : : |\n",
            "| : : : : : :\u001b[43m_\u001b[0m: : : : : |\n",
            "|S:x:x:x:x:x:x:x:x:x:x:G|\n",
            "+-----------------------+\n",
            "  (right)\n",
            "+-----------------------+\n",
            "| : : : : : : : : : : : |\n",
            "| : : : : : : : : : : : |\n",
            "| : : : : : : :\u001b[43m_\u001b[0m: : : : |\n",
            "|S:x:x:x:x:x:x:x:x:x:x:G|\n",
            "+-----------------------+\n",
            "  (right)\n",
            "+-----------------------+\n",
            "| : : : : : : : : : : : |\n",
            "| : : : : : : : : : : : |\n",
            "| : : : : : : : : : : : |\n",
            "|S:x:x:x:x:x:x:\u001b[41mx\u001b[0m:x:x:x:G|\n",
            "+-----------------------+\n",
            "  (right)\n",
            "+-----------------------+\n",
            "| : : : : : : : : : : : |\n",
            "| : : : : : : : : : : : |\n",
            "| : : : : : : :\u001b[43m_\u001b[0m: : : : |\n",
            "|S:x:x:x:x:x:x:x:x:x:x:G|\n",
            "+-----------------------+\n",
            "  (up)\n",
            "+-----------------------+\n",
            "| : : : : : : : : : : : |\n",
            "| : : : : : : : : : : : |\n",
            "| : : : : : : : :\u001b[43m_\u001b[0m: : : |\n",
            "|S:x:x:x:x:x:x:x:x:x:x:G|\n",
            "+-----------------------+\n",
            "  (right)\n",
            "+-----------------------+\n",
            "| : : : : : : : : : : : |\n",
            "| : : : : : : : : : : : |\n",
            "| : : : : : : : : :\u001b[43m_\u001b[0m: : |\n",
            "|S:x:x:x:x:x:x:x:x:x:x:G|\n",
            "+-----------------------+\n",
            "  (right)\n",
            "+-----------------------+\n",
            "| : : : : : : : : : : : |\n",
            "| : : : : : : : : : : : |\n",
            "| : : : : : : : : : :\u001b[43m_\u001b[0m: |\n",
            "|S:x:x:x:x:x:x:x:x:x:x:G|\n",
            "+-----------------------+\n",
            "  (right)\n",
            "+-----------------------+\n",
            "| : : : : : : : : : : : |\n",
            "| : : : : : : : : : : : |\n",
            "| : : : : : : : : : : :\u001b[43m_\u001b[0m|\n",
            "|S:x:x:x:x:x:x:x:x:x:x:G|\n",
            "+-----------------------+\n",
            "  (right)\n",
            "+-----------------------+\n",
            "| : : : : : : : : : : : |\n",
            "| : : : : : : : : : : : |\n",
            "| : : : : : : : : : : : |\n",
            "|S:x:x:x:x:x:x:x:x:x:x:\u001b[42mG\u001b[0m|\n",
            "+-----------------------+\n",
            "  (down)\n",
            "+-----------------------+\n",
            "| : : : : : : : : : : : |\n",
            "| : : : : : : : : : : : |\n",
            "| : : : : : : : : : : : |\n",
            "|\u001b[43mS\u001b[0m:x:x:x:x:x:x:x:x:x:x:G|\n",
            "+-----------------------+\n",
            "  (right)\n",
            "+-----------------------+\n",
            "| : : : : : : : : : : : |\n",
            "| : : : : : : : : : : : |\n",
            "|\u001b[43m_\u001b[0m: : : : : : : : : : : |\n",
            "|S:x:x:x:x:x:x:x:x:x:x:G|\n",
            "+-----------------------+\n",
            "  (up)\n",
            "+-----------------------+\n",
            "| : : : : : : : : : : : |\n",
            "| : : : : : : : : : : : |\n",
            "| :\u001b[43m_\u001b[0m: : : : : : : : : : |\n",
            "|S:x:x:x:x:x:x:x:x:x:x:G|\n",
            "+-----------------------+\n",
            "  (right)\n",
            "+-----------------------+\n",
            "| : : : : : : : : : : : |\n",
            "| : : : : : : : : : : : |\n",
            "| : :\u001b[43m_\u001b[0m: : : : : : : : : |\n",
            "|S:x:x:x:x:x:x:x:x:x:x:G|\n",
            "+-----------------------+\n",
            "  (right)\n",
            "+-----------------------+\n",
            "| : : : : : : : : : : : |\n",
            "| : : : : : : : : : : : |\n",
            "| : : :\u001b[43m_\u001b[0m: : : : : : : : |\n",
            "|S:x:x:x:x:x:x:x:x:x:x:G|\n",
            "+-----------------------+\n",
            "  (right)\n"
          ],
          "name": "stdout"
        }
      ]
    },
    {
      "cell_type": "markdown",
      "metadata": {
        "id": "azfXmRzZOPf4",
        "colab_type": "text"
      },
      "source": [
        "## Question 2: Q learning\n",
        "Q learning is a model-free algorithm for estimating the optimal Q-function online.\n",
        "It is an off-policy algorithm since the samples are collected with a policy that is (potentially) not the one associated to the estimated Q-function.\n",
        "\n",
        "1. Implement Q learning with $\\epsilon$-greedy exploration.\n",
        "  - Plot the error in Q-functions over iterations\n",
        "  - Plot the cumulative sum of rewards"
      ]
    },
    {
      "cell_type": "code",
      "metadata": {
        "id": "_t3WqIt-OPf5",
        "colab_type": "code",
        "colab": {}
      },
      "source": [
        "# ---------------------------\n",
        "# Q-Learning\n",
        "# ---------------------------\n",
        "\n",
        "class QLearning:\n",
        "    \"\"\"\n",
        "    Q learning with epsilon-greedy exploration\n",
        "    \"\"\"\n",
        "    def __init__(self,Q):\n",
        "      self.Q = Q\n",
        "\n",
        "        \n",
        "    \n",
        "    def sample_action(self, state, greedy,env):\n",
        "      action = greedy[state]\n",
        "      next_state, reward, done, info = env.step(action)\n",
        "      return next_state,reward,action\n",
        "    \n",
        "    def update(self, state, action, next_state, reward,alpha):\n",
        "      delta = reward + env.gamma*np.max(self.Q[next_state,:]) - self.Q[state,action]\n",
        "      self.Q[state,action] = Q[state,action] + alpha*delta\n",
        "      return self.Q\n",
        "    "
      ],
      "execution_count": 0,
      "outputs": []
    },
    {
      "cell_type": "code",
      "metadata": {
        "id": "CKTc5nWIOPf6",
        "colab_type": "code",
        "outputId": "a8ee4d79-f7d3-4b5d-9e94-aeb029b23cf3",
        "colab": {
          "base_uri": "https://localhost:8080/",
          "height": 521
        }
      },
      "source": [
        "# --------------\n",
        "# Point 1\n",
        "# --------------\n",
        "# Number of Q learning steps\n",
        "max_steps = int(1e5)  \n",
        "\n",
        "\n",
        "\n",
        "# Use the previous code to verify the correctness of q learning\n",
        "Q0 = np.random.rand(env.Ns,env.Na)\n",
        "Q_opt, pi_opt, _ = value_iteration(Q0, env, epsilon=1e-8)\n",
        "q1 = QLearning(Q0)\n",
        "\n",
        "# main algorithmic loop\n",
        "norm_values = []\n",
        "cumulative_sum_rewards = []\n",
        "t = 0\n",
        "epsilon = 0.1\n",
        "state = env.states[0]\n",
        "while t < max_steps:\n",
        "    a = np.random.choice([0,1],p=[epsilon,1-epsilon])\n",
        "    if a==0 :\n",
        "      greedy = np.argmax(q1.Q,axis=1)\n",
        "    if a==1:\n",
        "      greedy = np.random.randint(env.Na, size = (env.Ns,))\n",
        "    next_state,reward,action = q1.sample_action(state,greedy,env)  \n",
        "    q1.Q = q1.update(state,action,next_state,reward,1/(t+1))\n",
        "    norm_values.append(np.max(np.abs(q1.Q - Q_opt))) \n",
        "    cumulative_sum_rewards.append(reward)\n",
        "    state = next_state\n",
        "    t = t + 1\n",
        "print(env.render())\n",
        "print(\"optimal policy: \", pi_opt)\n",
        "greedy_policy = np.argmax(q1.Q, axis=1)\n",
        "print(\"est policy:\", greedy_policy)\n",
        "\n",
        "\n",
        "plt.plot(norm_values)\n",
        "plt.xlabel('Iteration')\n",
        "plt.ylabel('Error')\n",
        "plt.title(\"Q-learning: Convergence of Q\")\n",
        "\n",
        "\n",
        "\n"
      ],
      "execution_count": 11,
      "outputs": [
        {
          "output_type": "stream",
          "text": [
            "+-----------------------+\n",
            "| : : : : : : : : : : : |\n",
            "| : : : : : : : : : : : |\n",
            "| : : :\u001b[43m_\u001b[0m: : : : : : : : |\n",
            "|S:x:x:x:x:x:x:x:x:x:x:G|\n",
            "+-----------------------+\n",
            "  (up)\n",
            "None\n",
            "optimal policy:  [0 0 0 0 0 0 0 0 0 0 0 1 0 0 0 0 0 0 0 0 0 0 0 1 0 0 0 0 0 0 0 0 0 0 0 1 3\n",
            " 3 3 3 3 3 3 3 3 3 0 0]\n",
            "est policy: [0 0 0 0 0 0 0 0 0 0 0 1 0 0 0 0 0 0 0 0 0 0 0 1 0 0 0 0 0 0 0 0 0 0 0 1 3\n",
            " 3 3 3 3 3 3 3 3 3 0 0]\n"
          ],
          "name": "stdout"
        },
        {
          "output_type": "execute_result",
          "data": {
            "text/plain": [
              "Text(0.5, 1.0, 'Q-learning: Convergence of Q')"
            ]
          },
          "metadata": {
            "tags": []
          },
          "execution_count": 11
        },
        {
          "output_type": "display_data",
          "data": {
            "image/png": "[encoded data removed]",
            "text/plain": [
              "<Figure size 432x288 with 1 Axes>"
            ]
          },
          "metadata": {
            "tags": []
          }
        }
      ]
    },
    {
      "cell_type": "code",
      "metadata": {
        "id": "6EHxEbsB6Gke",
        "colab_type": "code",
        "colab": {
          "base_uri": "https://localhost:8080/",
          "height": 312
        },
        "outputId": "70285f43-3503-487c-db1a-108e5bd8ca87"
      },
      "source": [
        "cumulative_sum_rewards = np.array(cumulative_sum_rewards)\n",
        "cumulative_sum_rewards = np.cumsum(cumulative_sum_rewards)\n",
        "plt.plot(cumulative_sum_rewards)\n",
        "plt.xlabel('Iteration')\n",
        "plt.ylabel('cumulative sum of rewards')\n",
        "plt.title(\"cumulative sum of rewards\")"
      ],
      "execution_count": 12,
      "outputs": [
        {
          "output_type": "execute_result",
          "data": {
            "text/plain": [
              "Text(0.5, 1.0, 'cumulative sum of rewards')"
            ]
          },
          "metadata": {
            "tags": []
          },
          "execution_count": 12
        },
        {
          "output_type": "display_data",
          "data": {
            "image/png": "[encoded data removed]",
            "text/plain": [
              "<Figure size 432x288 with 1 Axes>"
            ]
          },
          "metadata": {
            "tags": []
          }
        }
      ]
    }
  ]
}