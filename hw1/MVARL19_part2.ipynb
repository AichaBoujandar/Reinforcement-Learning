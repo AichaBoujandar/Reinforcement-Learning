{
  "nbformat": 4,
  "nbformat_minor": 0,
  "metadata": {
    "colab": {
      "name": "MVARL19_part2.ipynb",
      "provenance": [],
      "collapsed_sections": [],
      "toc_visible": true
    },
    "kernelspec": {
      "name": "python3",
      "display_name": "Python 3"
    },
    "accelerator": "GPU"
  },
  "cells": [
    {
      "cell_type": "markdown",
      "metadata": {
        "id": "XJ_s4_nhhiyo",
        "colab_type": "text"
      },
      "source": [
        "# Reinforcement Learning with Function Approximation"
      ]
    },
    {
      "cell_type": "code",
      "metadata": {
        "id": "WTOWkpoCiLmL",
        "colab_type": "code",
        "outputId": "322f68e7-584f-4e1e-fbeb-b47a71d1cfed",
        "colab": {
          "base_uri": "https://localhost:8080/",
          "height": 1000
        }
      },
      "source": [
        "!pip install torch==1.2.0 torchvision pyvirtualdisplay matplotlib seaborn pandas numpy pathlib gym\n",
        "!sudo apt-get install xvfb\n",
        "!git clone https://github.com/rlgammazero/mvarl_hands_on.git > /dev/null 2>&1\n",
        "!cd mvarl_hands_on && git pull origin master > /dev/null 2>&1"
      ],
      "execution_count": 1,
      "outputs": [
        {
          "output_type": "stream",
          "text": [
            "Collecting torch==1.2.0\n",
            "\u001b[?25l  Downloading https://files.pythonhosted.org/packages/30/57/d5cceb0799c06733eefce80c395459f28970ebb9e896846ce96ab579a3f1/torch-1.2.0-cp36-cp36m-manylinux1_x86_64.whl (748.8MB)\n",
            "\u001b[K     |████████████████████████████████| 748.9MB 22kB/s \n",
            "\u001b[?25hRequirement already satisfied: torchvision in /usr/local/lib/python3.6/dist-packages (0.4.2)\n",
            "Collecting pyvirtualdisplay\n",
            "  Downloading https://files.pythonhosted.org/packages/cf/ad/b15f252bfb0f1693ad3150b55a44a674f3cba711cacdbb9ae2f03f143d19/PyVirtualDisplay-0.2.4-py2.py3-none-any.whl\n",
            "Requirement already satisfied: matplotlib in /usr/local/lib/python3.6/dist-packages (3.1.1)\n",
            "Requirement already satisfied: seaborn in /usr/local/lib/python3.6/dist-packages (0.9.0)\n",
            "Requirement already satisfied: pandas in /usr/local/lib/python3.6/dist-packages (0.25.3)\n",
            "Requirement already satisfied: numpy in /usr/local/lib/python3.6/dist-packages (1.17.4)\n",
            "Requirement already satisfied: pathlib in /usr/local/lib/python3.6/dist-packages (1.0.1)\n",
            "Requirement already satisfied: gym in /usr/local/lib/python3.6/dist-packages (0.15.4)\n",
            "Requirement already satisfied: pillow>=4.1.1 in /usr/local/lib/python3.6/dist-packages (from torchvision) (4.3.0)\n",
            "Requirement already satisfied: six in /usr/local/lib/python3.6/dist-packages (from torchvision) (1.12.0)\n",
            "Collecting EasyProcess\n",
            "  Downloading https://files.pythonhosted.org/packages/fa/29/40040d1d64a224a5e44df9572794a66494618ffe5c77199214aeceedb8a7/EasyProcess-0.2.7-py2.py3-none-any.whl\n",
            "Requirement already satisfied: pyparsing!=2.0.4,!=2.1.2,!=2.1.6,>=2.0.1 in /usr/local/lib/python3.6/dist-packages (from matplotlib) (2.4.5)\n",
            "Requirement already satisfied: python-dateutil>=2.1 in /usr/local/lib/python3.6/dist-packages (from matplotlib) (2.6.1)\n",
            "Requirement already satisfied: kiwisolver>=1.0.1 in /usr/local/lib/python3.6/dist-packages (from matplotlib) (1.1.0)\n",
            "Requirement already satisfied: cycler>=0.10 in /usr/local/lib/python3.6/dist-packages (from matplotlib) (0.10.0)\n",
            "Requirement already satisfied: scipy>=0.14.0 in /usr/local/lib/python3.6/dist-packages (from seaborn) (1.3.2)\n",
            "Requirement already satisfied: pytz>=2017.2 in /usr/local/lib/python3.6/dist-packages (from pandas) (2018.9)\n",
            "Requirement already satisfied: cloudpickle~=1.2.0 in /usr/local/lib/python3.6/dist-packages (from gym) (1.2.2)\n",
            "Requirement already satisfied: pyglet<=1.3.2,>=1.2.0 in /usr/local/lib/python3.6/dist-packages (from gym) (1.3.2)\n",
            "Requirement already satisfied: opencv-python in /usr/local/lib/python3.6/dist-packages (from gym) (3.4.7.28)\n",
            "Requirement already satisfied: olefile in /usr/local/lib/python3.6/dist-packages (from pillow>=4.1.1->torchvision) (0.46)\n",
            "Requirement already satisfied: setuptools in /usr/local/lib/python3.6/dist-packages (from kiwisolver>=1.0.1->matplotlib) (41.6.0)\n",
            "Requirement already satisfied: future in /usr/local/lib/python3.6/dist-packages (from pyglet<=1.3.2,>=1.2.0->gym) (0.16.0)\n",
            "\u001b[31mERROR: torchvision 0.4.2 has requirement torch==1.3.1, but you'll have torch 1.2.0 which is incompatible.\u001b[0m\n",
            "Installing collected packages: torch, EasyProcess, pyvirtualdisplay\n",
            "  Found existing installation: torch 1.3.1\n",
            "    Uninstalling torch-1.3.1:\n",
            "      Successfully uninstalled torch-1.3.1\n",
            "Successfully installed EasyProcess-0.2.7 pyvirtualdisplay-0.2.4 torch-1.2.0\n",
            "Reading package lists... Done\n",
            "Building dependency tree       \n",
            "Reading state information... Done\n",
            "The following package was automatically installed and is no longer required:\n",
            "  libnvidia-common-430\n",
            "Use 'sudo apt autoremove' to remove it.\n",
            "The following NEW packages will be installed:\n",
            "  xvfb\n",
            "0 upgraded, 1 newly installed, 0 to remove and 32 not upgraded.\n",
            "Need to get 783 kB of archives.\n",
            "After this operation, 2,266 kB of additional disk space will be used.\n",
            "Get:1 http://archive.ubuntu.com/ubuntu bionic-updates/universe amd64 xvfb amd64 2:1.19.6-1ubuntu4.3 [783 kB]\n",
            "Fetched 783 kB in 1s (712 kB/s)\n",
            "debconf: unable to initialize frontend: Dialog\n",
            "debconf: (No usable dialog-like program is installed, so the dialog based frontend cannot be used. at /usr/share/perl5/Debconf/FrontEnd/Dialog.pm line 76, <> line 1.)\n",
            "debconf: falling back to frontend: Readline\n",
            "debconf: unable to initialize frontend: Readline\n",
            "debconf: (This frontend requires a controlling tty.)\n",
            "debconf: falling back to frontend: Teletype\n",
            "dpkg-preconfigure: unable to re-open stdin: \n",
            "Selecting previously unselected package xvfb.\n",
            "(Reading database ... 145605 files and directories currently installed.)\n",
            "Preparing to unpack .../xvfb_2%3a1.19.6-1ubuntu4.3_amd64.deb ...\n",
            "Unpacking xvfb (2:1.19.6-1ubuntu4.3) ...\n",
            "Setting up xvfb (2:1.19.6-1ubuntu4.3) ...\n",
            "Processing triggers for man-db (2.8.3-2ubuntu0.1) ...\n"
          ],
          "name": "stdout"
        }
      ]
    },
    {
      "cell_type": "code",
      "metadata": {
        "id": "VS2NRaZ_fVuu",
        "colab_type": "code",
        "outputId": "8f5dbc3f-f5e6-4942-e4c5-0b1746565099",
        "colab": {
          "base_uri": "https://localhost:8080/",
          "height": 521
        }
      },
      "source": [
        "!apt-get install x11-utils"
      ],
      "execution_count": 2,
      "outputs": [
        {
          "output_type": "stream",
          "text": [
            "Reading package lists... Done\n",
            "Building dependency tree       \n",
            "Reading state information... Done\n",
            "The following package was automatically installed and is no longer required:\n",
            "  libnvidia-common-430\n",
            "Use 'apt autoremove' to remove it.\n",
            "The following additional packages will be installed:\n",
            "  libxxf86dga1\n",
            "Suggested packages:\n",
            "  mesa-utils\n",
            "The following NEW packages will be installed:\n",
            "  libxxf86dga1 x11-utils\n",
            "0 upgraded, 2 newly installed, 0 to remove and 32 not upgraded.\n",
            "Need to get 209 kB of archives.\n",
            "After this operation, 711 kB of additional disk space will be used.\n",
            "Get:1 http://archive.ubuntu.com/ubuntu bionic/main amd64 libxxf86dga1 amd64 2:1.1.4-1 [13.7 kB]\n",
            "Get:2 http://archive.ubuntu.com/ubuntu bionic/main amd64 x11-utils amd64 7.7+3build1 [196 kB]\n",
            "Fetched 209 kB in 1s (240 kB/s)\n",
            "Selecting previously unselected package libxxf86dga1:amd64.\n",
            "(Reading database ... 145612 files and directories currently installed.)\n",
            "Preparing to unpack .../libxxf86dga1_2%3a1.1.4-1_amd64.deb ...\n",
            "Unpacking libxxf86dga1:amd64 (2:1.1.4-1) ...\n",
            "Selecting previously unselected package x11-utils.\n",
            "Preparing to unpack .../x11-utils_7.7+3build1_amd64.deb ...\n",
            "Unpacking x11-utils (7.7+3build1) ...\n",
            "Setting up libxxf86dga1:amd64 (2:1.1.4-1) ...\n",
            "Processing triggers for man-db (2.8.3-2ubuntu0.1) ...\n",
            "Setting up x11-utils (7.7+3build1) ...\n",
            "Processing triggers for libc-bin (2.27-3ubuntu1) ...\n"
          ],
          "name": "stdout"
        }
      ]
    },
    {
      "cell_type": "code",
      "metadata": {
        "id": "gCsyvh4NhjUc",
        "colab_type": "code",
        "colab": {}
      },
      "source": [
        "import torch\n",
        "import torch.nn as nn\n",
        "import torch.nn.functional as F \n",
        "from torch import optim\n",
        "\n",
        "from pathlib import Path\n",
        "import base64\n",
        "\n",
        "import numpy as np\n",
        "\n",
        "import gym\n",
        "from gym.wrappers import Monitor\n",
        "from pprint import pprint\n",
        "from pyvirtualdisplay import Display\n",
        "from IPython import display as ipythondisplay\n",
        "from IPython.display import clear_output\n",
        "\n",
        "import pandas as pd\n",
        "import itertools\n",
        "import seaborn as sns\n",
        "\n",
        "import math\n",
        "\n",
        "# The following code is will be used to visualize the environments.\n",
        "\n",
        "def show_video(directory):\n",
        "    html = []\n",
        "    for mp4 in Path(directory).glob(\"*.mp4\"):\n",
        "        video_b64 = base64.b64encode(mp4.read_bytes())\n",
        "        html.append('''<video alt=\"{}\" autoplay \n",
        "                      loop controls style=\"height: 400px;\">\n",
        "                      <source src=\"data:video/mp4;base64,{}\" type=\"video/mp4\" />\n",
        "                 </video>'''.format(mp4, video_b64.decode('ascii')))\n",
        "    ipythondisplay.display(ipythondisplay.HTML(data=\"<br>\".join(html)))\n",
        "    \n",
        "display = Display(visible=0, size=(1400, 900))\n",
        "display.start();\n",
        "\n",
        "def make_seed(seed):\n",
        "    np.random.seed(seed=seed)\n",
        "    torch.manual_seed(seed=seed)"
      ],
      "execution_count": 0,
      "outputs": []
    },
    {
      "cell_type": "markdown",
      "metadata": {
        "id": "ThnSNaSMhnXa",
        "colab_type": "text"
      },
      "source": [
        "PyTorch is a Python package that provides two high-level features:\n",
        "- Tensor computation (like NumPy) with strong GPU acceleration\n",
        "- Deep neural networks built on a tape-based autograd system\n",
        "\n",
        "At a granular level, PyTorch is a library that consists of the following components:\n",
        "\n",
        "| Component | Description |\n",
        "| ---- | --- |\n",
        "| [**torch**](https://pytorch.org/docs/stable/torch.html) | a Tensor library like NumPy, with strong GPU support |\n",
        "| [**torch.autograd**](https://pytorch.org/docs/stable/autograd.html) | a tape-based automatic differentiation library that supports all differentiable Tensor operations in torch |\n",
        "| [**torch.jit**](https://pytorch.org/docs/stable/jit.html) | a compilation stack (TorchScript) to create serializable and optimizable models from PyTorch code  |\n",
        "| [**torch.nn**](https://pytorch.org/docs/stable/nn.html) | a neural networks library deeply integrated with autograd designed for maximum flexibility |\n",
        "| [**torch.multiprocessing**](https://pytorch.org/docs/stable/multiprocessing.html) | Python multiprocessing, but with magical memory sharing of torch Tensors across processes. Useful for data loading and Hogwild training |\n",
        "| [**torch.utils**](https://pytorch.org/docs/stable/data.html) | DataLoader and other utility functions for convenience |\n",
        "\n",
        "\n",
        "**Tutorials on PyTorch:** https://pytorch.org/tutorials/\n"
      ]
    },
    {
      "cell_type": "markdown",
      "metadata": {
        "id": "WlZQl9TjhuWY",
        "colab_type": "text"
      },
      "source": [
        "## OpenAI gym\n",
        "We will consider environments provided by OpenAI gym\n",
        "This library provides a large number of environments to test RL algorithm.\n",
        "\n",
        "We will focus on the **CartPole-v1** environment in this lab but we encourage you to also test your code on:\n",
        "* **Acrobot-v1**\n",
        "* **MountainCar-v0**\n",
        "\n",
        "| Env Info          \t| CartPole-v1 \t| Acrobot-v1                \t| MountainCar-v0 \t|\n",
        "|-------------------\t|-------------\t|---------------------------\t|----------------\t|\n",
        "| **Observation Space** \t| Box(4)      \t| Box(6)                    \t| Box(2)         \t|\n",
        "| **Action Space**      \t| Discrete(2) \t| Discrete(3)               \t| Discrete(3)    \t|\n",
        "| **Rewards**           \t| 1 per step  \t| -1 if not terminal else 0 \t| -1 per step    \t|\n",
        "\n",
        "A gym environment is loaded with the command `env = gym.make(env_id)`. Once the environment is created, you need to reset it with `observation = env.reset()` and then you can interact with it using the method step: `observation, reward, done, info = env.step(action)`."
      ]
    },
    {
      "cell_type": "code",
      "metadata": {
        "id": "3wfHvW9Hh4H3",
        "colab_type": "code",
        "colab": {}
      },
      "source": [
        "# We load CartPole-v1\n",
        "env = gym.make('CartPole-v1')\n",
        "# We wrap it in order to save our experiment on a file.\n",
        "env = Monitor(env, \"./gym-results\", force=True)"
      ],
      "execution_count": 0,
      "outputs": []
    },
    {
      "cell_type": "code",
      "metadata": {
        "id": "2-fFj5sDiA0C",
        "colab_type": "code",
        "outputId": "19ea1691-ddca-474b-adb5-51cb9332de58",
        "colab": {
          "base_uri": "https://localhost:8080/",
          "height": 420
        }
      },
      "source": [
        "done = False\n",
        "obs = env.reset()\n",
        "while not done:\n",
        "    action = env.action_space.sample()\n",
        "    obs, reward, done, info = env.step(action)\n",
        "env.close()\n",
        "show_video(\"./gym-results\")"
      ],
      "execution_count": 5,
      "outputs": [
        {
          "output_type": "display_data",
          "data": {
            "text/html": [
              "<video alt=\"gym-results/openaigym.video.0.127.video000000.mp4\" autoplay \n",
              "                      loop controls style=\"height: 400px;\">\n",
              "                      <source src=\"data:video/mp4;base64,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\" type=\"video/mp4\" />\n",
              "                 </video>"
            ],
            "text/plain": [
              "<IPython.core.display.HTML object>"
            ]
          },
          "metadata": {
            "tags": []
          }
        }
      ]
    },
    {
      "cell_type": "markdown",
      "metadata": {
        "id": "sd2xLlapilZE",
        "colab_type": "text"
      },
      "source": [
        "## REINFORCE\n",
        "\n",
        "**Q1: Implement the REINFORCE algorithm**\n",
        "\n",
        "The code is splitted in two parts:\n",
        "* The Model class defines the architecture of our neural network which takes as input the current state and returns the policy,\n",
        "* The Agent class is responsible for the training and evaluation procedure. You will need to code the method `optimize_model`."
      ]
    },
    {
      "cell_type": "code",
      "metadata": {
        "id": "iwsQ8NSPiCz7",
        "colab_type": "code",
        "colab": {}
      },
      "source": [
        "class Model(nn.Module):\n",
        "    def __init__(self, dim_observation, n_actions):\n",
        "        super(Model, self).__init__()\n",
        "        \n",
        "        self.n_actions = n_actions\n",
        "        self.dim_observation = dim_observation\n",
        "        \n",
        "        self.net = nn.Sequential(\n",
        "            nn.Linear(in_features=self.dim_observation, out_features=16),\n",
        "            nn.ReLU(),\n",
        "            nn.Linear(in_features=16, out_features=8),\n",
        "            nn.ReLU(),\n",
        "            nn.Linear(in_features=8, out_features=self.n_actions),\n",
        "            nn.Softmax(dim=0)\n",
        "        )\n",
        "        \n",
        "    def forward(self, state):\n",
        "        return self.net(state)\n",
        "    \n",
        "    def select_action(self, state):\n",
        "        action = torch.multinomial(self.forward(state), 1)\n",
        "        return action"
      ],
      "execution_count": 0,
      "outputs": []
    },
    {
      "cell_type": "markdown",
      "metadata": {
        "id": "xrgtQMYbiwX7",
        "colab_type": "text"
      },
      "source": [
        "Create the model based on the properties of the MDP you want to solve"
      ]
    },
    {
      "cell_type": "code",
      "metadata": {
        "id": "S6ieL_KJirq9",
        "colab_type": "code",
        "outputId": "4f31d512-b2ef-4820-8bf9-a17d40571a39",
        "colab": {
          "base_uri": "https://localhost:8080/",
          "height": 208
        }
      },
      "source": [
        "env_id = 'CartPole-v1'\n",
        "env = gym.make(env_id)\n",
        "model = Model(env.observation_space.shape[0], env.action_space.n)\n",
        "print(f'The model we created correspond to:\\n{model}')"
      ],
      "execution_count": 7,
      "outputs": [
        {
          "output_type": "stream",
          "text": [
            "The model we created correspond to:\n",
            "Model(\n",
            "  (net): Sequential(\n",
            "    (0): Linear(in_features=4, out_features=16, bias=True)\n",
            "    (1): ReLU()\n",
            "    (2): Linear(in_features=16, out_features=8, bias=True)\n",
            "    (3): ReLU()\n",
            "    (4): Linear(in_features=8, out_features=2, bias=True)\n",
            "    (5): Softmax(dim=0)\n",
            "  )\n",
            ")\n"
          ],
          "name": "stdout"
        }
      ]
    },
    {
      "cell_type": "markdown",
      "metadata": {
        "id": "WwrVF9kti1e-",
        "colab_type": "text"
      },
      "source": [
        "We provide a base agent that you will need to extend in the next cell with your implementation of `optimize_model`."
      ]
    },
    {
      "cell_type": "code",
      "metadata": {
        "id": "DWvKO66ii1zh",
        "colab_type": "code",
        "colab": {}
      },
      "source": [
        "class BaseAgent:\n",
        "    \n",
        "    def __init__(self, config):\n",
        "        self.config = config\n",
        "        self.env = gym.make(config['env_id'])\n",
        "        make_seed(config['seed'])\n",
        "        self.env.seed(config['seed'])\n",
        "        self.model = Model(self.env.observation_space.shape[0], self.env.action_space.n)\n",
        "        self.gamma = config['gamma']\n",
        "        \n",
        "        # the optimizer used by PyTorch (Stochastic Gradient, Adagrad, Adam, etc.)\n",
        "        self.optimizer = torch.optim.Adam(self.model.net.parameters(), lr=config['learning_rate'])\n",
        "        self.monitor_env = Monitor(env, \"./gym-results\", force=True, video_callable=lambda episode: True)\n",
        "    \n",
        "    # Method to implement\n",
        "    def _compute_returns(self, rewards):\n",
        "        \"\"\"Returns the cumulative discounted rewards at each time step\n",
        "\n",
        "        Parameters\n",
        "        ----------\n",
        "        rewards : array\n",
        "            The array of rewards of one episode\n",
        "\n",
        "        Returns\n",
        "        -------\n",
        "        array\n",
        "            The cumulative discounted rewards at each time step\n",
        "            \n",
        "        Example\n",
        "        -------\n",
        "        for rewards=[1, 2, 3] this method outputs [1 + 2 * gamma + 3 * gamma**2, 2 + 3 * gamma, 3] \n",
        "        \"\"\"\n",
        "        \n",
        "\n",
        "\n",
        "        \n",
        "        raise NotImplementedError\n",
        "    \n",
        "    # Method to implement\n",
        "    def optimize_model(self, n_trajectories):\n",
        "        \"\"\"Perform a gradient update using n_trajectories\n",
        "\n",
        "        Parameters\n",
        "        ----------\n",
        "        n_trajectories : int\n",
        "            The number of trajectories used to approximate the expectation card(D) in the formula above\n",
        "        \n",
        "        Returns\n",
        "        -------\n",
        "        array\n",
        "            The cumulative discounted rewards of each trajectory\n",
        "        \"\"\"\n",
        "      \n",
        "        \n",
        "        \n",
        "        raise NotImplementedError\n",
        "    \n",
        "    def train(self, n_trajectories, n_update):\n",
        "        \"\"\"Training method\n",
        "\n",
        "        Parameters\n",
        "        ----------\n",
        "        n_trajectories : int\n",
        "            The number of trajectories used to approximate the expected gradient\n",
        "        n_update : int\n",
        "            The number of gradient updates\n",
        "            \n",
        "        \"\"\"\n",
        "        \n",
        "        rewards = []\n",
        "        for episode in range(n_update):\n",
        "            rewards.append(self.optimize_model(n_trajectories))\n",
        "            print(f'Episode {episode + 1}/{n_update}: rewards {round(rewards[-1].mean(), 2)} +/- {round(rewards[-1].std(), 2)}')\n",
        "        \n",
        "        # Plotting\n",
        "        r = pd.DataFrame((itertools.chain(*(itertools.product([i], rewards[i]) for i in range(len(rewards))))), columns=['Epoch', 'Reward'])\n",
        "        sns.lineplot(x=\"Epoch\", y=\"Reward\", data=r, ci='sd');\n",
        "        \n",
        "    def evaluate(self, render=False):\n",
        "        \"\"\"Evaluate the agent on a single trajectory            \n",
        "        \"\"\"\n",
        "        \n",
        "        observation = self.monitor_env.reset()\n",
        "        observation = torch.tensor(observation, dtype=torch.float)\n",
        "        reward_episode = 0\n",
        "        done = False\n",
        "            \n",
        "        while not done:\n",
        "            action = self.model.select_action(observation)\n",
        "            observation, reward, done, info = self.monitor_env.step(int(action))\n",
        "            observation = torch.tensor(observation, dtype=torch.float)\n",
        "            reward_episode += reward\n",
        "        \n",
        "        self.monitor_env.close()\n",
        "        if render:\n",
        "            show_video(\"./gym-results\")\n",
        "            print(f'Reward: {reward_episode}')\n",
        "        print(f'Reward: {reward_episode}')"
      ],
      "execution_count": 0,
      "outputs": []
    },
    {
      "cell_type": "markdown",
      "metadata": {
        "id": "Y6mhw_A3i_8R",
        "colab_type": "text"
      },
      "source": [
        "Finally you can implement your agent"
      ]
    },
    {
      "cell_type": "code",
      "metadata": {
        "id": "lbjP-7WHi9oc",
        "colab_type": "code",
        "colab": {}
      },
      "source": [
        "class REINFORCE(BaseAgent):\n",
        "    def  _compute_returns(self, rewards):\n",
        "        l = len(rewards)\n",
        "        for i in range(l):\n",
        "            for j in range(i,l):\n",
        "                rewards[i] += rewards[j] * gamma**(j-i)\n",
        "        return rewards\n",
        "        \n",
        "    def optimize_model(self, n_trajectories):\n",
        "      reward_trajectories = [] #it None before\n",
        "      loss = 0\n",
        "      for i in range(n_trajectories):\n",
        "        done = False\n",
        "        state = torch.tensor(self.env.reset(),dtype=torch.float)\n",
        "        reward_i = []\n",
        "        loss_i = []\n",
        "        while not done:\n",
        "          action = self.model.select_action(state).item()\n",
        "          new_state, reward, done, info = self.env.step(action)\n",
        "          loss_i.append(torch.log(self.model.forward(state)[action]))\n",
        "          state = torch.tensor(new_state,dtype=torch.float)\n",
        "          reward_i.append(reward)\n",
        "          state = torch.tensor(new_state,dtype=torch.float)\n",
        "        C = self._compute_returns(np.array(reward_i))\n",
        "        for k in range(len(reward_i)):\n",
        "          loss += C[k]*loss_i[k]\n",
        "        reward_trajectories.append(C[0])\n",
        "      loss = -loss/n_trajectories\n",
        "      reward_trajectories = np.array(reward_trajectories)\n",
        "      \n",
        "\n",
        "        \n",
        "        # The following lines take care of the gradient descent step for the variable loss\n",
        "        # that you need to compute.\n",
        "        \n",
        "        # Discard previous gradients\n",
        "      self.optimizer.zero_grad()\n",
        "      # Compute the gradient \n",
        "      loss.backward()\n",
        "      # Do the gradient descent step\n",
        "      self.optimizer.step()\n",
        "      return reward_trajectories\n",
        "    "
      ],
      "execution_count": 0,
      "outputs": []
    },
    {
      "cell_type": "code",
      "metadata": {
        "id": "vZAo0K8VjCYj",
        "colab_type": "code",
        "outputId": "cb985aee-8fbb-4c3d-998b-d9332010c3b8",
        "colab": {
          "base_uri": "https://localhost:8080/",
          "height": 51
        }
      },
      "source": [
        "env_id = 'CartPole-v1'\n",
        "learning_rate = 0.01\n",
        "gamma = 1 \n",
        "seed = 1235\n",
        "\n",
        "config = {\n",
        "    'env_id': env_id,\n",
        "    'learning_rate': learning_rate,\n",
        "    'seed': seed,\n",
        "    'gamma': gamma\n",
        "}\n",
        "\n",
        "print(\"Current config is:\")\n",
        "pprint(config)\n"
      ],
      "execution_count": 10,
      "outputs": [
        {
          "output_type": "stream",
          "text": [
            "Current config is:\n",
            "{'env_id': 'CartPole-v1', 'gamma': 1, 'learning_rate': 0.01, 'seed': 1235}\n"
          ],
          "name": "stdout"
        }
      ]
    },
    {
      "cell_type": "code",
      "metadata": {
        "id": "D4Ag7E3qjJas",
        "colab_type": "code",
        "outputId": "667e098a-6641-4aef-b991-9026aca4f02a",
        "colab": {
          "base_uri": "https://localhost:8080/",
          "height": 1000
        }
      },
      "source": [
        "agent = REINFORCE(config)\n",
        "agent.train(n_trajectories=50, n_update=50)"
      ],
      "execution_count": 11,
      "outputs": [
        {
          "output_type": "stream",
          "text": [
            "Episode 1/50: rewards 17.9 +/- 6.2\n",
            "Episode 2/50: rewards 24.4 +/- 10.22\n",
            "Episode 3/50: rewards 22.78 +/- 10.9\n",
            "Episode 4/50: rewards 24.44 +/- 12.22\n",
            "Episode 5/50: rewards 24.16 +/- 15.84\n",
            "Episode 6/50: rewards 25.36 +/- 13.01\n",
            "Episode 7/50: rewards 25.62 +/- 14.78\n",
            "Episode 8/50: rewards 25.92 +/- 14.38\n",
            "Episode 9/50: rewards 27.6 +/- 15.79\n",
            "Episode 10/50: rewards 26.88 +/- 14.47\n",
            "Episode 11/50: rewards 29.66 +/- 14.07\n",
            "Episode 12/50: rewards 30.34 +/- 15.0\n",
            "Episode 13/50: rewards 27.2 +/- 12.48\n",
            "Episode 14/50: rewards 28.4 +/- 15.38\n",
            "Episode 15/50: rewards 29.06 +/- 14.48\n",
            "Episode 16/50: rewards 39.2 +/- 25.07\n",
            "Episode 17/50: rewards 37.14 +/- 21.44\n",
            "Episode 18/50: rewards 34.34 +/- 15.92\n",
            "Episode 19/50: rewards 34.32 +/- 17.95\n",
            "Episode 20/50: rewards 41.9 +/- 25.29\n",
            "Episode 21/50: rewards 34.78 +/- 14.52\n",
            "Episode 22/50: rewards 44.08 +/- 21.57\n",
            "Episode 23/50: rewards 43.2 +/- 28.48\n",
            "Episode 24/50: rewards 49.66 +/- 18.62\n",
            "Episode 25/50: rewards 47.12 +/- 23.02\n",
            "Episode 26/50: rewards 54.94 +/- 20.7\n",
            "Episode 27/50: rewards 55.56 +/- 32.8\n",
            "Episode 28/50: rewards 56.26 +/- 27.0\n",
            "Episode 29/50: rewards 64.34 +/- 26.56\n",
            "Episode 30/50: rewards 75.18 +/- 45.9\n",
            "Episode 31/50: rewards 68.86 +/- 30.76\n",
            "Episode 32/50: rewards 84.22 +/- 46.94\n",
            "Episode 33/50: rewards 83.62 +/- 42.44\n",
            "Episode 34/50: rewards 91.06 +/- 41.71\n",
            "Episode 35/50: rewards 105.4 +/- 51.61\n",
            "Episode 36/50: rewards 115.82 +/- 49.89\n",
            "Episode 37/50: rewards 120.36 +/- 48.99\n",
            "Episode 38/50: rewards 138.14 +/- 55.69\n",
            "Episode 39/50: rewards 147.48 +/- 54.53\n",
            "Episode 40/50: rewards 168.46 +/- 59.98\n",
            "Episode 41/50: rewards 160.96 +/- 64.88\n",
            "Episode 42/50: rewards 160.44 +/- 51.66\n",
            "Episode 43/50: rewards 179.32 +/- 45.73\n",
            "Episode 44/50: rewards 193.68 +/- 58.03\n",
            "Episode 45/50: rewards 202.88 +/- 78.83\n",
            "Episode 46/50: rewards 275.58 +/- 95.8\n",
            "Episode 47/50: rewards 291.62 +/- 122.96\n",
            "Episode 48/50: rewards 309.34 +/- 118.96\n",
            "Episode 49/50: rewards 332.04 +/- 118.45\n",
            "Episode 50/50: rewards 404.16 +/- 104.98\n"
          ],
          "name": "stdout"
        },
        {
          "output_type": "display_data",
          "data": {
            "image/png": "[encoded data removed]",
            "text/plain": [
              "<Figure size 432x288 with 1 Axes>"
            ]
          },
          "metadata": {
            "tags": []
          }
        }
      ]
    },
    {
      "cell_type": "markdown",
      "metadata": {
        "id": "q3_dvBl8jUc3",
        "colab_type": "text"
      },
      "source": [
        "Evaluate the agent over multiple episodes"
      ]
    },
    {
      "cell_type": "code",
      "metadata": {
        "id": "aPyqbIiCjO_-",
        "colab_type": "code",
        "outputId": "d26a5777-3682-4f1c-9308-de087335b483",
        "colab": {
          "base_uri": "https://localhost:8080/",
          "height": 34
        }
      },
      "source": [
        "agent.evaluate()"
      ],
      "execution_count": 12,
      "outputs": [
        {
          "output_type": "stream",
          "text": [
            "Reward: 189.0\n"
          ],
          "name": "stdout"
        }
      ]
    },
    {
      "cell_type": "markdown",
      "metadata": {
        "id": "LHM2_CRFkNoA",
        "colab_type": "text"
      },
      "source": [
        "## Policy Evaluation as Supervised Learning\n",
        "\n",
        "**Q2: Implement batched gradient algorithm**\n",
        "\n",
        "Define network for Q-function (ValueNetwork) and policy (ActorNetwork)\n"
      ]
    },
    {
      "cell_type": "code",
      "metadata": {
        "id": "W9sxcz_eKF1M",
        "colab_type": "code",
        "colab": {}
      },
      "source": [
        "class ValueNetwork(nn.Module):\n",
        "\n",
        "    def __init__(self, input_size, hidden_size, output_size):\n",
        "        super(ValueNetwork, self).__init__()\n",
        "        self.fc1 = nn.Linear(input_size, hidden_size)\n",
        "        self.fc2 = nn.Linear(hidden_size, hidden_size)\n",
        "        self.fc3 = nn.Linear(hidden_size, output_size)\n",
        "\n",
        "    def forward(self, x):\n",
        "        out = F.relu(self.fc1(x))\n",
        "        out = F.relu(self.fc2(out))\n",
        "        out = self.fc3(out)\n",
        "        return out\n",
        "    \n",
        "    def predict(self, x):\n",
        "        return self(x).detach().numpy()[0]"
      ],
      "execution_count": 0,
      "outputs": []
    },
    {
      "cell_type": "code",
      "metadata": {
        "id": "1GKxKzs5khxM",
        "colab_type": "code",
        "colab": {}
      },
      "source": [
        "class ActorNetwork(nn.Module):\n",
        "\n",
        "    def __init__(self, input_size, hidden_size, action_size):\n",
        "        super(ActorNetwork, self).__init__()\n",
        "        self.fc1 = nn.Linear(input_size, hidden_size)\n",
        "        self.fc2 = nn.Linear(hidden_size, hidden_size)\n",
        "        self.fc3 = nn.Linear(hidden_size, action_size)\n",
        "\n",
        "    def forward(self, x):\n",
        "        out = F.relu(self.fc1(x))\n",
        "        out = F.relu(self.fc2(out))\n",
        "        out = F.softmax(self.fc3(out), dim=-1)\n",
        "        return out\n",
        "    \n",
        "    def select_action(self, x):\n",
        "        return torch.multinomial(self(x), 1).detach().numpy()"
      ],
      "execution_count": 0,
      "outputs": []
    },
    {
      "cell_type": "markdown",
      "metadata": {
        "id": "aBpNVkaAKLQz",
        "colab_type": "text"
      },
      "source": [
        "Implement your (batched) gradient algorithm\n",
        "\n"
      ]
    },
    {
      "cell_type": "code",
      "metadata": {
        "id": "QQ4Wu5B5KIIO",
        "colab_type": "code",
        "colab": {}
      },
      "source": [
        "class EvalAgent:\n",
        "\n",
        "    def __init__(self, config, policy):\n",
        "        self.config = config\n",
        "        self.env = gym.make(config['env_id'])\n",
        "        make_seed(config['seed'])\n",
        "        self.env.seed(config['seed'])\n",
        "        self.monitor_env = Monitor(self.env, \"./gym-results\", force=True, video_callable=lambda episode: True)\n",
        "        self.gamma = config['gamma']\n",
        "        self.policy = policy\n",
        "\n",
        "        # Our network\n",
        "        self.value_network = ValueNetwork(self.env.observation_space.shape[0], 16, 1)\n",
        "        \n",
        "        # optimizers\n",
        "        self.value_network_optimizer = optim.RMSprop(self.value_network.parameters(), \n",
        "                                                   lr=config['value_network']['learning_rate'])\n",
        "    \n",
        "    def _returns_advantages(self, rewards, dones, next_value):\n",
        "        \"\"\"Returns the cumulative discounted rewards at each time step\n",
        "\n",
        "        Parameters\n",
        "        ----------\n",
        "        rewards : array\n",
        "            An array of shape (batch_size,) containing the rewards given by the env\n",
        "        dones : array\n",
        "            An array of shape (batch_size,) containing the done bool indicator given by the env\n",
        "        next_value : float\n",
        "            The value of the next state given by the value network\n",
        "\n",
        "        Returns\n",
        "        -------\n",
        "        returns : array\n",
        "            The cumulative discounted rewards\n",
        "        \"\"\"\n",
        "        batch_size = len(rewards)\n",
        "        reward = []\n",
        "        reward_b = []\n",
        "        one = []\n",
        "        returns = []\n",
        "        for i in range(batch_size):\n",
        "          if not dones[i]:\n",
        "            reward_b.append(rewards[i])\n",
        "          else :\n",
        "            reward_b.append(rewards[i])\n",
        "            for k in range(len(reward_b)):\n",
        "              for j in range(k,len(reward_b)):\n",
        "                reward_b[k] += reward_b[j]* self.gamma**(j-k)\n",
        "            reward.append(reward_b)\n",
        "            reward_b = []\n",
        "            one.append(i) #where the dones==1\n",
        "        if len(rewards)-1 not in one :\n",
        "          reward_b.append(next_value)\n",
        "          for k in range(len(reward_b)):\n",
        "              for j in range(k,len(reward_b)):\n",
        "                reward_b[k] += reward_b[j]* self.gamma**(j-k)\n",
        "          reward.append(reward_b)\n",
        "        for l in reward :\n",
        "          for m in l :\n",
        "            returns.append([m])\n",
        "        return returns[:batch_size]\n",
        "\n",
        "\n",
        "\n",
        "\n",
        "\n",
        "        #return NotImplementedError\n",
        "    \n",
        "    \n",
        "    def optimize_model(self, observations, actions, returns): \n",
        "        \"\"\"Perform a gradient update using provided transitions\n",
        "\n",
        "        Parameters\n",
        "        ----------\n",
        "        observations : array\n",
        "            The observations\n",
        "        actions : array\n",
        "            The actions\n",
        "        returns : array\n",
        "            The returns from each state\n",
        "\n",
        "        Returns\n",
        "        -------\n",
        "        loss_value: int\n",
        "            The loss value\n",
        "        \"\"\"\n",
        "        actions = F.one_hot(torch.tensor(actions), self.env.action_space.n)\n",
        "        #returns = torch.tensor(returns[:, None], dtype=torch.float)\n",
        "        returns = torch.tensor(returns, dtype=torch.float)\n",
        "        observations = torch.tensor(observations, dtype=torch.float)\n",
        "        predictions = self.value_network.forward(observations)\n",
        "        loss_value = F.mse_loss(predictions,returns,reduction='mean')\n",
        "        self.value_network_optimizer.zero_grad()\n",
        "        loss_value.backward()\n",
        "        self.value_network_optimizer.step()\n",
        "        return loss_value\n",
        "  \n",
        "    \n",
        "    def training_batch(self, epochs, batch_size):\n",
        "        \"\"\"Perform a training by batch\n",
        "\n",
        "        Parameters\n",
        "        ----------\n",
        "        epochs : int\n",
        "            Number of epochs\n",
        "        batch_size : int\n",
        "            The size of a batch\n",
        "        \"\"\"\n",
        "        episode_count = 0\n",
        "        actions = np.empty((batch_size,), dtype=np.int)\n",
        "        dones = np.empty((batch_size,), dtype=np.bool)\n",
        "        rewards, values = np.empty((2, batch_size), dtype=np.float)\n",
        "        observations = np.empty((batch_size,) + self.env.observation_space.shape, dtype=np.float)\n",
        "        observation = self.env.reset()\n",
        "        mse_test = []\n",
        "\n",
        "        for epoch in range(epochs):\n",
        "            # Lets collect one batch\n",
        "            for i in range(batch_size):\n",
        "                observations[i] = observation\n",
        "                values[i] =  self.value_network.predict(torch.tensor(observations[i], dtype=torch.float))\n",
        "                actions[i] = self.policy.select_action(torch.tensor(observations[i], dtype=torch.float))\n",
        "                observation,rewards[i],dones[i],info = self.env.step(int(actions[i]))\n",
        "                # step\n",
        "\n",
        "                if dones[i]:\n",
        "                    observation = self.env.reset()\n",
        "\n",
        "            # If our epiosde didn't end on the last step we need to compute the value for the last state\n",
        "            if dones[-1]:\n",
        "                next_value = 0\n",
        "            else:\n",
        "                next_value = self.value_network.predict(torch.tensor(observation,dtype= torch.float))\n",
        "\n",
        "            # Update episode_count\n",
        "            episode_count += sum(dones)\n",
        "\n",
        "            # Compute returns\n",
        "            returns = self._returns_advantages(rewards, dones, next_value)\n",
        "\n",
        "\n",
        "            # Learning step !\n",
        "            self.optimize_model(observations, actions, returns)\n",
        "\n",
        "            # Test it every 50 epochs\n",
        "            if epoch % 25 == 0 or epoch == epochs - 1:\n",
        "                L = []\n",
        "                for _ in range(10):\n",
        "                    obs_states, y_mc = self.evaluate()\n",
        "                    y_hat = self.value_network.predict(torch.tensor(obs_states, dtype=torch.float))\n",
        "                    err = y_mc - y_hat\n",
        "                    mse = np.mean(err**2)\n",
        "                    L.append(mse.item())\n",
        "                mse_test.append(L)\n",
        "                print(f'Epoch {epoch}/{epochs}: MSE: {np.mean(mse)}')\n",
        "\n",
        "                observation = self.env.reset()\n",
        "\n",
        "        # Plotting\n",
        "        r = pd.DataFrame((itertools.chain(*(itertools.product([i], mse_test[i]) for i in range(len(mse_test))))), columns=['Epoch', 'MSE'])\n",
        "        sns.lineplot(x=\"Epoch\", y=\"MSE\", data=r, ci='sd');\n",
        "\n",
        "        print(f'The trainnig was done over a total of {episode_count} episodes')\n",
        "\n",
        "    def evaluate(self, render=False):\n",
        "        \"\"\"Returns the observations and the estimated V-function (using first visit Monte-Carlo)\n",
        "\n",
        "        Parameters\n",
        "        ----------\n",
        "        rewards : array\n",
        "            An array of shape (batch_size,) containing the rewards given by the env\n",
        "        dones : array\n",
        "            An array of shape (batch_size,) containing the done bool indicator given by the env\n",
        "        values : array\n",
        "            An array of shape (batch_size,) containing the values given by the value network\n",
        "        next_value : float\n",
        "            The value of the next state given by the value network\n",
        "\n",
        "        Returns\n",
        "        -------\n",
        "        states : array\n",
        "            Observations\n",
        "        returns : array\n",
        "            The estimate value function of each state\n",
        "        \"\"\"\n",
        "        env = self.monitor_env if render else self.env\n",
        "        observation = env.reset()\n",
        "        states = [observation.copy()]\n",
        "        rewards= []\n",
        "        observation = torch.tensor(observation, dtype=torch.float)\n",
        "        done = False\n",
        "        steps = 0\n",
        "\n",
        "        while not done:\n",
        "            action = self.policy.select_action(observation)\n",
        "            observation, reward, done, info = env.step(int(action))\n",
        "            for i in range(steps):\n",
        "                rewards[i] = rewards[i] + math.pow(self.gamma, steps-i)*reward\n",
        "            rewards.append(reward)\n",
        "            if not done:\n",
        "                states.append(observation.copy())\n",
        "            observation = torch.tensor(observation, dtype=torch.float)\n",
        "            steps += 1\n",
        "\n",
        "        env.close()\n",
        "        if render:\n",
        "            show_video(\"./gym-results\")\n",
        "            print(f'Reward: {reward_episode}')\n",
        "        states = np.array(states).reshape(-1, self.env.observation_space.shape[0])\n",
        "        returns = np.array(rewards).reshape(-1,1)\n",
        "        return states, returns"
      ],
      "execution_count": 0,
      "outputs": []
    },
    {
      "cell_type": "markdown",
      "metadata": {
        "id": "IY1VIUHLNKn3",
        "colab_type": "text"
      },
      "source": [
        "Define configuration"
      ]
    },
    {
      "cell_type": "code",
      "metadata": {
        "id": "Fvc-7jXDNNkG",
        "colab_type": "code",
        "outputId": "b46cd36f-409b-478f-9052-5b613bbe1d53",
        "colab": {
          "base_uri": "https://localhost:8080/",
          "height": 104
        }
      },
      "source": [
        "env_id = 'CartPole-v1'\n",
        "value_learning_rate = 0.001   \n",
        "gamma = 0.99\n",
        "seed = 1\n",
        "\n",
        "config_td = {\n",
        "    'env_id': env_id,\n",
        "    'gamma': gamma,\n",
        "    'seed': seed,\n",
        "    'value_network': {'learning_rate': value_learning_rate, 'reference': './CartPole_value.pt'}\n",
        "}\n",
        "\n",
        "print(\"Current config_td is:\")\n",
        "pprint(config_td)\n"
      ],
      "execution_count": 19,
      "outputs": [
        {
          "output_type": "stream",
          "text": [
            "Current config_td is:\n",
            "{'env_id': 'CartPole-v1',\n",
            " 'gamma': 0.99,\n",
            " 'seed': 1,\n",
            " 'value_network': {'learning_rate': 0.001, 'reference': './CartPole_value.pt'}}\n"
          ],
          "name": "stdout"
        }
      ]
    },
    {
      "cell_type": "markdown",
      "metadata": {
        "id": "d2lRnaF3NPyy",
        "colab_type": "text"
      },
      "source": [
        "Create policy"
      ]
    },
    {
      "cell_type": "code",
      "metadata": {
        "id": "NkbHK_lXNShg",
        "colab_type": "code",
        "outputId": "b27591fc-09d1-4982-a4e0-ffdd6becc1eb",
        "colab": {
          "base_uri": "https://localhost:8080/",
          "height": 34
        }
      },
      "source": [
        "env = gym.make(config_td['env_id'])\n",
        "policy = ActorNetwork(env.observation_space.shape[0], 16, env.action_space.n)\n",
        "policy.load_state_dict(torch.load('./mvarl_hands_on/data/CartPole_actor.pt'))\n",
        "state = torch.tensor(np.array(env.reset(), dtype=np.float32))\n",
        "print(\"pi(state) = \", policy.select_action(state))\n",
        "del env"
      ],
      "execution_count": 20,
      "outputs": [
        {
          "output_type": "stream",
          "text": [
            "pi(state) =  [1]\n"
          ],
          "name": "stdout"
        }
      ]
    },
    {
      "cell_type": "markdown",
      "metadata": {
        "id": "Y51M4EgtNU7Z",
        "colab_type": "text"
      },
      "source": [
        "Run agent"
      ]
    },
    {
      "cell_type": "code",
      "metadata": {
        "id": "4PFvnYLnNGvX",
        "colab_type": "code",
        "outputId": "3c64e148-58c6-49ef-f185-47ccbfb3a4b7",
        "colab": {
          "base_uri": "https://localhost:8080/",
          "height": 1000
        }
      },
      "source": [
        "agent = EvalAgent(config=config_td, policy=policy)\n",
        "agent.training_batch(epochs=1000, batch_size=256) "
      ],
      "execution_count": 21,
      "outputs": [
        {
          "output_type": "stream",
          "text": [
            "Epoch 0/1000: MSE: 7039.383826365838\n",
            "Epoch 25/1000: MSE: 6975.8844718143455\n",
            "Epoch 50/1000: MSE: 5129.168067147775\n",
            "Epoch 75/1000: MSE: 6707.095317431478\n",
            "Epoch 100/1000: MSE: 6497.494995148703\n",
            "Epoch 125/1000: MSE: 6192.65464754457\n",
            "Epoch 150/1000: MSE: 5853.826720806122\n",
            "Epoch 175/1000: MSE: 5528.7322695146\n",
            "Epoch 200/1000: MSE: 5173.80398106329\n",
            "Epoch 225/1000: MSE: 4785.92025874934\n",
            "Epoch 250/1000: MSE: 4332.003590306414\n",
            "Epoch 275/1000: MSE: 3901.238299356455\n",
            "Epoch 300/1000: MSE: 3494.0305661589396\n",
            "Epoch 325/1000: MSE: 3071.690651033385\n",
            "Epoch 350/1000: MSE: 2633.6004698855763\n",
            "Epoch 375/1000: MSE: 2300.1541046249486\n",
            "Epoch 400/1000: MSE: 2008.6997992963582\n",
            "Epoch 425/1000: MSE: 1652.0414524578134\n",
            "Epoch 450/1000: MSE: 1376.799112690997\n",
            "Epoch 475/1000: MSE: 1185.8244765622421\n",
            "Epoch 500/1000: MSE: 996.8241058741168\n",
            "Epoch 525/1000: MSE: 880.2780318192353\n",
            "Epoch 550/1000: MSE: 802.3224258740523\n",
            "Epoch 575/1000: MSE: 736.1923694713989\n",
            "Epoch 600/1000: MSE: 694.7347901562484\n",
            "Epoch 625/1000: MSE: 663.5615868682041\n",
            "Epoch 650/1000: MSE: 630.5466666996136\n",
            "Epoch 675/1000: MSE: 621.3050980959043\n",
            "Epoch 700/1000: MSE: 614.6585264104014\n",
            "Epoch 725/1000: MSE: 605.1525637950025\n",
            "Epoch 750/1000: MSE: 606.2504879763113\n",
            "Epoch 775/1000: MSE: 603.0678563134579\n",
            "Epoch 800/1000: MSE: 604.0298915585777\n",
            "Epoch 825/1000: MSE: 605.1652732143566\n",
            "Epoch 850/1000: MSE: 790.0386357334992\n",
            "Epoch 875/1000: MSE: 741.2965818838898\n",
            "Epoch 900/1000: MSE: 601.4407151833594\n",
            "Epoch 925/1000: MSE: 601.1190420658023\n",
            "Epoch 950/1000: MSE: 599.3767682337077\n",
            "Epoch 975/1000: MSE: 601.5625471902857\n",
            "Epoch 999/1000: MSE: 598.3052728766851\n",
            "The trainnig was done over a total of 517 episodes\n"
          ],
          "name": "stdout"
        },
        {
          "output_type": "display_data",
          "data": {
            "image/png": "[encoded data removed]",
            "text/plain": [
              "<Figure size 432x288 with 1 Axes>"
            ]
          },
          "metadata": {
            "tags": []
          }
        }
      ]
    },
    {
      "cell_type": "markdown",
      "metadata": {
        "id": "03as0wkuja2A",
        "colab_type": "text"
      },
      "source": [
        "## Advantage Actor Critic (A2C)\n",
        "**Q3: Implement the A2C method**\n",
        "\n",
        "As usual we provide a structure you can use as starting point.\n",
        "\n",
        "\n",
        "\n",
        "**Note:** try to reuse previous parts of previous code.\n",
        "\n"
      ]
    },
    {
      "cell_type": "code",
      "metadata": {
        "id": "G4EmYpAsjhKh",
        "colab_type": "code",
        "colab": {}
      },
      "source": [
        "class A2CAgent:\n",
        "\n",
        "    def __init__(self, config):\n",
        "        self.config = config\n",
        "        self.env = gym.make(config['env_id'])\n",
        "        make_seed(config['seed'])\n",
        "        self.env.seed(config['seed'])\n",
        "        self.monitor_env = Monitor(self.env, \"./gym-results\", force=True, video_callable=lambda episode: True)\n",
        "        self.gamma = config['gamma']\n",
        "        \n",
        "        # Our two networks\n",
        "        self.value_network = ValueNetwork(self.env.observation_space.shape[0], 16, 1)\n",
        "        self.actor_network = ActorNetwork(self.env.observation_space.shape[0], 16, self.env.action_space.n)\n",
        "        \n",
        "        # Their optimizers\n",
        "        self.value_network_optimizer = optim.RMSprop(self.value_network.parameters(), lr=config['value_network']['learning_rate'])\n",
        "        self.actor_network_optimizer = optim.RMSprop(self.actor_network.parameters(), lr=config['actor_network']['learning_rate'])\n",
        "        \n",
        "    # Hint: use it during training_batch\n",
        "    def _returns_advantages(self, rewards, dones, values, next_value):\n",
        "        \"\"\"Returns the cumulative discounted rewards at each time step\n",
        "\n",
        "        Parameters\n",
        "        ----------\n",
        "        rewards : array\n",
        "            An array of shape (batch_size,) containing the rewards given by the env\n",
        "        dones : array\n",
        "            An array of shape (batch_size,) containing the done bool indicator given by the env\n",
        "        values : array\n",
        "            An array of shape (batch_size,) containing the values given by the value network\n",
        "        next_value : float\n",
        "            The value of the next state given by the value network\n",
        "        \n",
        "        Returns\n",
        "        -------\n",
        "        returns : array\n",
        "            The cumulative discounted rewards\n",
        "        advantages : array\n",
        "            The advantages\n",
        "        \"\"\"\n",
        "        batch_size = len(rewards)\n",
        "        reward = []\n",
        "        reward_b = []\n",
        "        one = []\n",
        "        returns = []\n",
        "        advantages = []\n",
        "        for i in range(batch_size):\n",
        "          if not dones[i]:\n",
        "            reward_b.append(rewards[i])\n",
        "          else :\n",
        "            reward_b.append(rewards[i])\n",
        "            for k in range(len(reward_b)):\n",
        "              for j in range(k,len(reward_b)):\n",
        "                reward_b[k] += reward_b[j]* self.gamma**(j-k)\n",
        "            reward.append(reward_b)\n",
        "            reward_b = []\n",
        "            one.append(i) #where the dones==1\n",
        "        if len(rewards)-1 not in one :\n",
        "          reward_b.append(next_value)\n",
        "          for k in range(len(reward_b)):\n",
        "              for j in range(k,len(reward_b)):\n",
        "                reward_b[k] += reward_b[j]* self.gamma**(j-k)\n",
        "          reward.append(reward_b)\n",
        "        for l in reward :\n",
        "          for m in l :\n",
        "            returns.append(m)\n",
        "        returns = returns[:batch_size]\n",
        "        advantages = returns - values\n",
        "        return returns,advantages\n",
        "\n",
        "    def training_batch(self, epochs, batch_size):\n",
        "        \"\"\"Perform a training by batch\n",
        "\n",
        "        Parameters\n",
        "        ----------\n",
        "        epochs : int\n",
        "            Number of epochs\n",
        "        batch_size : int\n",
        "            The size of a batch\n",
        "        \"\"\"\n",
        "        episode_count = 0\n",
        "        actions = np.empty((batch_size,), dtype=np.int)\n",
        "        dones = np.empty((batch_size,), dtype=np.bool)\n",
        "        rewards, values = np.empty((2, batch_size), dtype=np.float)\n",
        "        observations = np.empty((batch_size,) + self.env.observation_space.shape, dtype=np.float)\n",
        "        observation = self.env.reset()\n",
        "        rewards_test = []\n",
        "        for epoch in range(epochs):\n",
        "            for i in range(batch_size):\n",
        "                observations[i] = observation\n",
        "                values[i] =  self.value_network.predict(torch.tensor(observations[i], dtype=torch.float))\n",
        "                actions[i] = self.actor_network.select_action(torch.tensor(observations[i], dtype=torch.float))\n",
        "                observation,rewards[i],dones[i],info = self.env.step(int(actions[i]))\n",
        "\n",
        "                # step\n",
        "\n",
        "                if dones[i]:\n",
        "                    observation = self.env.reset()\n",
        "\n",
        "            # If our epiosde didn't end on the last step we need to compute the value for the last state\n",
        "            if dones[-1]:\n",
        "                next_value = 0\n",
        "            else:\n",
        "                next_value = self.value_network.predict(torch.tensor(observation,dtype= torch.float))\n",
        "\n",
        "            # Update episode_count\n",
        "            episode_count += sum(dones)\n",
        "\n",
        "            # Compute returns\n",
        "            returns,advantages = self._returns_advantages(rewards, dones, values, next_value)\n",
        "\n",
        "            # Learning step !\n",
        "            self.optimize_model(observations, actions, returns, advantages,dones)\n",
        "\n",
        "            # Test it every 50 epochs\n",
        "            if epoch % 50 == 0 or epoch == epochs - 1:\n",
        "                rewards_test.append(np.array([self.evaluate() for _ in range(50)]))\n",
        "                print(f'Epoch {epoch}/{epochs}: Mean rewards: {round(rewards_test[-1].mean(), 2)}, Std: {round(rewards_test[-1].std(), 2)}')\n",
        "\n",
        "                # Early stopping\n",
        "                if rewards_test[-1].mean() > 490 and epoch != epochs -1:\n",
        "                    print('Early stopping !')\n",
        "                    break\n",
        "                observation = self.env.reset()\n",
        "                    \n",
        "        # Plotting\n",
        "        r = pd.DataFrame((itertools.chain(*(itertools.product([i], rewards_test[i]) for i in range(len(rewards_test))))), columns=['Epoch', 'Reward'])\n",
        "        sns.lineplot(x=\"Epoch\", y=\"Reward\", data=r, ci='sd');\n",
        "        \n",
        "        print(f'The trainnig was done over a total of {episode_count} episodes')\n",
        "\n",
        "    def optimize_model(self, observations, actions, returns, advantages,dones):\n",
        "        n_trajectories = np.sum(dones)\n",
        "        actions = F.one_hot(torch.tensor(actions), self.env.action_space.n)\n",
        "        #returns = torch.tensor(returns[:, None], dtype=torch.float)\n",
        "        returns = torch.tensor(returns, dtype=torch.float)\n",
        "        advantages = torch.tensor(advantages, dtype=torch.float)\n",
        "        observations = torch.tensor(observations, dtype=torch.float)\n",
        "        actions = F.one_hot(torch.tensor(actions), self.env.action_space.n)\n",
        "        returns = torch.tensor(returns, dtype=torch.float)\n",
        "        advantages = torch.tensor(advantages, dtype=torch.float)\n",
        "        observations = torch.tensor(observations, dtype=torch.float)\n",
        "        predictions_values = self.value_network.forward(observations)\n",
        "        loss_values = F.mse_loss(predictions_values,returns,reduction='mean')\n",
        "        predictions_actions = self.actor_network.select_action(observations)\n",
        "        loss_actor = torch.dot(torch.log(torch.tensor(predictions_actions,dtype=torch.float)).flatten(), advantages.flatten())/n_trajectories\n",
        "        entropy = torch.dot(torch.log(torch.tensor(predictions_actions,dtype=torch.float)).flatten(), torch.tensor(predictions_actions,dtype=torch.float).flatten())\n",
        "        loss = loss_actor + loss_values + 0.001*entropy\n",
        "        self.value_network_optimizer.zero_grad()\n",
        "        self.actor_network_optimizer.zero_grad()\n",
        "        loss.backward()\n",
        "        self.value_network_optimizer.step()\n",
        "        self.actor_network_optimizer.step()\n",
        "\n",
        "        return loss\n",
        "\n",
        "\n",
        "    def evaluate(self, render=False):\n",
        "        env = self.monitor_env if render else self.env\n",
        "        observation = env.reset()\n",
        "        observation = torch.tensor(observation, dtype=torch.float)\n",
        "        reward_episode = 0\n",
        "        done = False\n",
        "\n",
        "        while not done:\n",
        "            policy = self.actor_network(observation)\n",
        "            action = torch.multinomial(policy, 1)\n",
        "            observation, reward, done, info = env.step(int(action))\n",
        "            observation = torch.tensor(observation, dtype=torch.float)\n",
        "            reward_episode += reward\n",
        "            \n",
        "        env.close()\n",
        "        if render:\n",
        "            show_video(\"./gym-results\")\n",
        "            print(f'Reward: {reward_episode}')\n",
        "        return reward_episode"
      ],
      "execution_count": 0,
      "outputs": []
    },
    {
      "cell_type": "markdown",
      "metadata": {
        "id": "8sEwrInsjkDH",
        "colab_type": "text"
      },
      "source": [
        "Create configuration for A2C"
      ]
    },
    {
      "cell_type": "code",
      "metadata": {
        "id": "OwDDx78wjmG5",
        "colab_type": "code",
        "colab": {
          "base_uri": "https://localhost:8080/",
          "height": 138
        },
        "outputId": "1e1e90d7-e315-43be-af1c-430b9110e303"
      },
      "source": [
        "env_id = 'CartPole-v1'\n",
        "value_learning_rate = 0.001\n",
        "actor_learning_rate = 0.001\n",
        "gamma = 0.99\n",
        "entropy = 1\n",
        "seed = 1\n",
        "\n",
        "config_a2c = {\n",
        "    'env_id': env_id,\n",
        "    'gamma': gamma,\n",
        "    'seed': seed,\n",
        "    'value_network': {'learning_rate': value_learning_rate},\n",
        "    'actor_network': {'learning_rate': actor_learning_rate},\n",
        "    'entropy': entropy\n",
        "}\n",
        "\n",
        "print(\"Current config_a2c is:\")\n",
        "pprint(config_a2c)"
      ],
      "execution_count": 38,
      "outputs": [
        {
          "output_type": "stream",
          "text": [
            "Current config_a2c is:\n",
            "{'actor_network': {'learning_rate': 0.001},\n",
            " 'entropy': 1,\n",
            " 'env_id': 'CartPole-v1',\n",
            " 'gamma': 0.99,\n",
            " 'seed': 1,\n",
            " 'value_network': {'learning_rate': 0.001}}\n"
          ],
          "name": "stdout"
        }
      ]
    },
    {
      "cell_type": "markdown",
      "metadata": {
        "id": "6xW7fe-8jvzY",
        "colab_type": "text"
      },
      "source": [
        "Run the learning agent"
      ]
    },
    {
      "cell_type": "code",
      "metadata": {
        "id": "UrZRJ7-yjryp",
        "colab_type": "code",
        "colab": {
          "base_uri": "https://localhost:8080/",
          "height": 770
        },
        "outputId": "022c6ae2-a1df-4260-955e-e10ca909a133"
      },
      "source": [
        "agent = A2CAgent(config_a2c)\n",
        "rewards = agent.training_batch(1000, 256)"
      ],
      "execution_count": 39,
      "outputs": [
        {
          "output_type": "stream",
          "text": [
            "/usr/local/lib/python3.6/dist-packages/ipykernel_launcher.py:139: UserWarning: To copy construct from a tensor, it is recommended to use sourceTensor.clone().detach() or sourceTensor.clone().detach().requires_grad_(True), rather than torch.tensor(sourceTensor).\n",
            "/usr/local/lib/python3.6/dist-packages/ipykernel_launcher.py:140: UserWarning: To copy construct from a tensor, it is recommended to use sourceTensor.clone().detach() or sourceTensor.clone().detach().requires_grad_(True), rather than torch.tensor(sourceTensor).\n",
            "/usr/local/lib/python3.6/dist-packages/ipykernel_launcher.py:141: UserWarning: To copy construct from a tensor, it is recommended to use sourceTensor.clone().detach() or sourceTensor.clone().detach().requires_grad_(True), rather than torch.tensor(sourceTensor).\n",
            "/usr/local/lib/python3.6/dist-packages/ipykernel_launcher.py:142: UserWarning: To copy construct from a tensor, it is recommended to use sourceTensor.clone().detach() or sourceTensor.clone().detach().requires_grad_(True), rather than torch.tensor(sourceTensor).\n",
            "/usr/local/lib/python3.6/dist-packages/ipykernel_launcher.py:144: UserWarning: Using a target size (torch.Size([256])) that is different to the input size (torch.Size([256, 1])). This will likely lead to incorrect results due to broadcasting. Please ensure they have the same size.\n"
          ],
          "name": "stderr"
        },
        {
          "output_type": "stream",
          "text": [
            "Epoch 0/1000: Mean rewards: 21.5, Std: 11.02\n",
            "Epoch 50/1000: Mean rewards: 21.68, Std: 10.48\n",
            "Epoch 100/1000: Mean rewards: 21.3, Std: 10.99\n",
            "Epoch 150/1000: Mean rewards: 25.18, Std: 13.01\n",
            "Epoch 200/1000: Mean rewards: 24.16, Std: 14.66\n",
            "Epoch 250/1000: Mean rewards: 24.22, Std: 10.24\n",
            "Epoch 300/1000: Mean rewards: 20.4, Std: 7.5\n",
            "Epoch 350/1000: Mean rewards: 20.28, Std: 9.36\n",
            "Epoch 400/1000: Mean rewards: 24.22, Std: 14.62\n",
            "Epoch 450/1000: Mean rewards: 21.38, Std: 10.99\n",
            "Epoch 500/1000: Mean rewards: 22.12, Std: 11.26\n",
            "Epoch 550/1000: Mean rewards: 20.96, Std: 9.97\n",
            "Epoch 600/1000: Mean rewards: 23.8, Std: 13.28\n",
            "Epoch 650/1000: Mean rewards: 19.16, Std: 8.06\n",
            "Epoch 700/1000: Mean rewards: 21.58, Std: 10.21\n",
            "Epoch 750/1000: Mean rewards: 20.56, Std: 9.13\n",
            "Epoch 800/1000: Mean rewards: 18.42, Std: 8.25\n",
            "Epoch 850/1000: Mean rewards: 21.58, Std: 9.74\n",
            "Epoch 900/1000: Mean rewards: 24.94, Std: 13.35\n",
            "Epoch 950/1000: Mean rewards: 20.18, Std: 10.04\n",
            "Epoch 999/1000: Mean rewards: 20.52, Std: 7.41\n",
            "The trainnig was done over a total of 11887 episodes\n"
          ],
          "name": "stdout"
        },
        {
          "output_type": "display_data",
          "data": {
            "image/png": "[encoded data removed]",
            "text/plain": [
              "<Figure size 432x288 with 1 Axes>"
            ]
          },
          "metadata": {
            "tags": []
          }
        }
      ]
    },
    {
      "cell_type": "markdown",
      "metadata": {
        "id": "NzuNtPqTju64",
        "colab_type": "text"
      },
      "source": [
        "Evaluate the agent over multiple episodes"
      ]
    },
    {
      "cell_type": "code",
      "metadata": {
        "id": "bw279M4Jj1y-",
        "colab_type": "code",
        "colab": {
          "base_uri": "https://localhost:8080/",
          "height": 34
        },
        "outputId": "2797482f-4808-4044-9215-d60758f5e75d"
      },
      "source": [
        "agent.evaluate()"
      ],
      "execution_count": 40,
      "outputs": [
        {
          "output_type": "execute_result",
          "data": {
            "text/plain": [
              "21.0"
            ]
          },
          "metadata": {
            "tags": []
          },
          "execution_count": 40
        }
      ]
    }
  ]
}