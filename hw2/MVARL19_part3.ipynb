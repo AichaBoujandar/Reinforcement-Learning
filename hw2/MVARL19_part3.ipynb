{
  "nbformat": 4,
  "nbformat_minor": 0,
  "metadata": {
    "kernelspec": {
      "name": "python3",
      "display_name": "Python 3"
    },
    "language_info": {
      "codemirror_mode": {
        "name": "ipython",
        "version": 3
      },
      "file_extension": ".py",
      "mimetype": "text/x-python",
      "name": "python",
      "nbconvert_exporter": "python",
      "pygments_lexer": "ipython3",
      "version": "3.6.9"
    },
    "colab": {
      "name": "MVARL19_part3.ipynb",
      "provenance": [],
      "collapsed_sections": [],
      "machine_shape": "hm"
    },
    "accelerator": "GPU"
  },
  "cells": [
    {
      "cell_type": "markdown",
      "metadata": {
        "id": "rly7ZGiyUKJ6",
        "colab_type": "text"
      },
      "source": [
        "# Exploration in Linear Bandits\n",
        "\n",
        "The objective of this part is to implement and compare the following strategies for linear bandits:\n",
        "\n",
        "[Optimism in the Face of Uncertainty (LinUCB/OFUL)](https://papers.nips.cc/paper/4417-improved-algorithms-for-linear-stochastic-bandits.pdf)\n",
        "\n",
        "[Thompson Sampling](https://projecteuclid.org/euclid.ejs/1513306870)"
      ]
    },
    {
      "cell_type": "markdown",
      "metadata": {
        "id": "infCxpaRA0XC",
        "colab_type": "text"
      },
      "source": [
        "## Linear bandit\n",
        "We consider the standard linear bandit setting. At each time $t$, the agent selects an arm $a_t \\in A$ and observes a reward\n",
        "$$\n",
        "r_{a}^t = \\langle \\theta^\\star, \\phi_a^t \\rangle + \\eta_a^t := \\mu_a^t + \\eta_a^t\n",
        "$$\n",
        "where $\\theta^{\\star} \\in \\mathbb{R}^{d}$ is a parameter vector, $\\phi_{a}^t \\in \\mathbb{R}^{d} $ are the features of arm $a$ at time $t$, and $\\eta_{a}^{t}$ is a zero-mean  $\\sigma^2$-subgaussian noise. \n",
        "\n",
        "When the features correspond to the canonical basis, this formulation reduces to multi-armed bandit (MAB) with $d$ arms. In the more general case, the features may depend on a context $x_t$, so that $\\phi_a^t = \\phi(x_t, a)$ denotes the feature vector of a context-action pair $(x_t, a)$ and the resulting setting is the so-called linear contextual bandit.\n",
        "\n",
        "We rely on the following standard assumption on the features and the unknown parameter $\\theta^\\star$.\n",
        "\n",
        "**Assumption.** There exist $B,D \\geq 0$, such that $\\|\\theta^\\star\\|_2 \\leq B$, $\\|\\phi_a^t\\| \\leq D$, and $\\langle \\theta^\\star, \\phi_a^t \\rangle \\in [0,1]$, for all $t$ and $a$.\n",
        "\n",
        "Given a finite horizon $n$, the performance of the agent is measured by its (pseudo)-\\emph{regret}:\n",
        "$$\n",
        "        %R(n) = n \\mu^{\\star} - \\sum_{t=1}^n \\mu_{a_t} = \\sum_{i=1}^K T_i(n) \\Delta_i, \n",
        "        R(n) = \\sum_{t=1}^n \\langle \\theta^\\star, \\phi_{a^\\star}^t \\rangle - \\langle \\theta^\\star, \\phi_{a_t}^t \\rangle ,\n",
        "$$\n",
        "where $a^{\\star}_{t} \\in \\arg\\max_{a} \\langle \\theta^\\star, \\phi_{a}^t \\rangle$ is the optimal action at time $t$.\n",
        "\n",
        "**We consider the simple linear bandit setting:** $\\phi_a^t = \\phi_a, \\; \\forall t$\n",
        "\n",
        "\n"
      ]
    },
    {
      "cell_type": "code",
      "metadata": {
        "id": "SlwPdLAwUWfI",
        "colab_type": "code",
        "outputId": "941c60ab-4e1a-4bc1-9160-ae6e1d57a902",
        "colab": {
          "base_uri": "https://localhost:8080/",
          "height": 156
        }
      },
      "source": [
        "!rm -rf mvarl_hands_on/\n",
        "!git clone https://github.com/rlgammazero/mvarl_hands_on.git\n",
        "!cd mvarl_hands_on/ && git fetch\n",
        "!ls mvarl_hands_on/utils"
      ],
      "execution_count": 1,
      "outputs": [
        {
          "output_type": "stream",
          "text": [
            "Cloning into 'mvarl_hands_on'...\n",
            "remote: Enumerating objects: 39, done.\u001b[K\n",
            "remote: Counting objects: 100% (39/39), done.\u001b[K\n",
            "remote: Compressing objects: 100% (27/27), done.\u001b[K\n",
            "remote: Total 39 (delta 14), reused 37 (delta 12), pack-reused 0\u001b[K\n",
            "Unpacking objects: 100% (39/39), done.\n",
            "cliffwalk.py  discretization.py  frozen_lake.py  test_env.py\n",
            "coldstart.py  finite_env.py\t gridworld.py\n"
          ],
          "name": "stdout"
        }
      ]
    },
    {
      "cell_type": "code",
      "metadata": {
        "id": "wWQOcbHbUKJ8",
        "colab_type": "code",
        "colab": {}
      },
      "source": [
        "import sys\n",
        "sys.path.insert(0, './mvarl_hands_on/utils')\n",
        "import os\n",
        "import numpy as np\n",
        "from pprint import pprint\n",
        "from coldstart import ColdStartFromDataset\n",
        "from scipy.sparse.linalg import svds\n",
        "import matplotlib.pyplot as plt\n",
        "from scipy.stats import multivariate_normal\n",
        "import math\n",
        "from tqdm import tqdm"
      ],
      "execution_count": 0,
      "outputs": []
    },
    {
      "cell_type": "markdown",
      "metadata": {
        "id": "78oy9izEUKKA",
        "colab_type": "text"
      },
      "source": [
        "#### Jester Jokes Dataset (Dense subset of 40 jokes)\n",
        "\n",
        "Deep Bayesian Bandits Showdown: An Empirical Comparison of Bayesian Deep Networks for Thompson Sampling\n",
        "\n",
        "Download the data at: https://storage.googleapis.com/bandits_datasets/jester_data_40jokes_19181users.npy\n",
        "\n",
        "We performed a matrix factorization of the ratings (after filtering over users and jokes). This provides features for the arms and users, the reward (ie rating) is the dot product between the arm and user features (we make it stochastic by adding Gaussian noise). We consider a cold start problem where the user is randomly selected at the beginning of the repetition and the agent has to learn the best arm to recommend. When an arm is selected by the algorithm, its reward is computed as the dot product between the arm and user features."
      ]
    },
    {
      "cell_type": "code",
      "metadata": {
        "id": "HW1YAyl1UKKB",
        "colab_type": "code",
        "outputId": "3742710b-bf54-4415-cfda-2cec13e69413",
        "colab": {
          "base_uri": "https://localhost:8080/",
          "height": 208
        }
      },
      "source": [
        "!wget https://storage.googleapis.com/bandits_datasets/jester_data_40jokes_19181users.npy"
      ],
      "execution_count": 3,
      "outputs": [
        {
          "output_type": "stream",
          "text": [
            "--2020-01-09 16:13:45--  https://storage.googleapis.com/bandits_datasets/jester_data_40jokes_19181users.npy\n",
            "Resolving storage.googleapis.com (storage.googleapis.com)... 74.125.203.128, 2404:6800:4008:c07::80\n",
            "Connecting to storage.googleapis.com (storage.googleapis.com)|74.125.203.128|:443... connected.\n",
            "HTTP request sent, awaiting response... 200 OK\n",
            "Length: 6138000 (5.9M) [application/octet-stream]\n",
            "Saving to: ‘jester_data_40jokes_19181users.npy’\n",
            "\n",
            "jester_data_40jokes 100%[===================>]   5.85M  11.6MB/s    in 0.5s    \n",
            "\n",
            "2020-01-09 16:13:47 (11.6 MB/s) - ‘jester_data_40jokes_19181users.npy’ saved [6138000/6138000]\n",
            "\n"
          ],
          "name": "stdout"
        }
      ]
    },
    {
      "cell_type": "code",
      "metadata": {
        "id": "7ZsqokZKUKKD",
        "colab_type": "code",
        "outputId": "6375c43e-accb-4267-eff6-fef80ca13347",
        "colab": {
          "base_uri": "https://localhost:8080/",
          "height": 86
        }
      },
      "source": [
        "M = np.load('jester_data_40jokes_19181users.npy')\n",
        "M = M / 10\n",
        "K = 35\n",
        "U, s, Vt = svds(M, k = K)\n",
        "s=np.diag(s)\n",
        "U = np.dot(U,s)\n",
        "print('U: {}'.format(U.shape))\n",
        "print('Vt: {}'.format(Vt.shape))\n",
        "print('#features: {}'.format(Vt.shape[0]))\n",
        "print('#arms: {}'.format(Vt.shape[1]))\n",
        "np.savetxt('U_jester.csv', U, delimiter=',') \n",
        "np.savetxt('Vt_jester.csv', Vt, delimiter=',') "
      ],
      "execution_count": 4,
      "outputs": [
        {
          "output_type": "stream",
          "text": [
            "U: (19181, 35)\n",
            "Vt: (35, 40)\n",
            "#features: 35\n",
            "#arms: 40\n"
          ],
          "name": "stdout"
        }
      ]
    },
    {
      "cell_type": "markdown",
      "metadata": {
        "id": "VmQdkpc-UKKF",
        "colab_type": "text"
      },
      "source": [
        "Create the coldstart model"
      ]
    },
    {
      "cell_type": "code",
      "metadata": {
        "id": "fDXGgf-HUKKF",
        "colab_type": "code",
        "outputId": "8f076b26-44b8-44fc-b199-ec27f759b711",
        "colab": {
          "base_uri": "https://localhost:8080/",
          "height": 121
        }
      },
      "source": [
        "seed = 1235\n",
        "user_subset = np.linspace(0, 400, 10).astype(int).tolist()\n",
        "arm_csvfile = os.path.abspath('Vt_jester.csv')\n",
        "user_csvfile = os.path.abspath('U_jester.csv')\n",
        "noise_std = 0.1\n",
        "\n",
        "config_cs = {\n",
        "    'arm_csvfile': arm_csvfile,\n",
        "    'user_csvfile': user_csvfile,\n",
        "    'random_state': seed,\n",
        "    'user_subset': user_subset,\n",
        "    'noise_std': noise_std\n",
        "}\n",
        "\n",
        "print(\"Current config is:\")\n",
        "pprint(config_cs)\n"
      ],
      "execution_count": 5,
      "outputs": [
        {
          "output_type": "stream",
          "text": [
            "Current config is:\n",
            "{'arm_csvfile': '/content/Vt_jester.csv',\n",
            " 'noise_std': 0.1,\n",
            " 'random_state': 1235,\n",
            " 'user_csvfile': '/content/U_jester.csv',\n",
            " 'user_subset': [0, 44, 88, 133, 177, 222, 266, 311, 355, 400]}\n"
          ],
          "name": "stdout"
        }
      ]
    },
    {
      "cell_type": "code",
      "metadata": {
        "id": "cjPeT4LLUKKH",
        "colab_type": "code",
        "outputId": "f380eb9c-e057-40b4-ed0f-9b912001f23c",
        "colab": {
          "base_uri": "https://localhost:8080/",
          "height": 347
        }
      },
      "source": [
        "noise = 0.2\n",
        "random_state = 312\n",
        "model = ColdStartFromDataset(**config_cs)\n",
        "print(\"\\nThe new user arriving to the system is user #\", model.theta_idx)\n",
        "print(\"\\nTheta*: \", model.theta)\n",
        "means = np.dot(model.features, model.theta)\n",
        "print(\"\\nMeans: \", means)\n",
        "theta_bound = np.linalg.norm(model.theta, 2)\n",
        "print(\"\\nTheta bound: \", theta_bound)"
      ],
      "execution_count": 6,
      "outputs": [
        {
          "output_type": "stream",
          "text": [
            "\n",
            "The new user arriving to the system is user # 0\n",
            "\n",
            "Theta*:  [-0.14409231  0.43539423  0.2747901   0.66499875 -0.37607787 -0.5311686\n",
            "  0.46734142 -0.35714551  0.18064845  0.18723352 -0.23396023 -0.16849068\n",
            " -0.10335514  0.91519338 -0.21039623  0.1833611  -0.84450415 -0.26294998\n",
            "  0.26518936  0.35510236 -0.28335034 -1.22469951  0.5107731  -0.48747268\n",
            "  0.13875891 -0.9220408  -0.55007465 -0.89254841 -0.47612818 -0.23462657\n",
            " -0.86935818 -0.46627145 -0.59188659  2.90857678  0.44447412]\n",
            "\n",
            "Means:  [0.90993881 0.35384089 0.08512103 0.32213402 0.95744733 0.67784092\n",
            " 0.74377489 0.2704268  0.83799292 0.15401023 0.         0.7245789\n",
            " 0.12517332 0.14010574 0.57730112 0.1799651  0.99717046 0.0391141\n",
            " 0.97403273 0.79958855 0.7144092  0.72700017 0.68750834 0.07563604\n",
            " 0.52816592 0.66041995 0.44109597 0.66584167 0.01637349 0.0441486\n",
            " 0.10780234 0.12438797 0.15353279 0.21577762 0.80089158 0.08379304\n",
            " 0.59994892 0.74545921 1.         0.02634348]\n",
            "\n",
            "Theta bound:  4.2264994367562485\n"
          ],
          "name": "stdout"
        }
      ]
    },
    {
      "cell_type": "markdown",
      "metadata": {
        "id": "6KUmWBFlUKKJ",
        "colab_type": "text"
      },
      "source": [
        "**Question 1**: implement LinUCB"
      ]
    },
    {
      "cell_type": "markdown",
      "metadata": {
        "id": "G45BzTW_J4Gr",
        "colab_type": "text"
      },
      "source": [
        "### LinUCB / OFUL\n",
        "See the slides!\n",
        "\n",
        "Note that it is not necessary to invert the matrix $A_t$ at each round. Since $A_t$ is obtained from a rank-1 update of $A_{t-1}$, it is possible to use Sherman–Morrison formula to build directly $A_t^{-1}$.\n",
        "\n",
        "Suppose $𝐴$ be a nonsingular $n\\times n$ matrix and $\\mathbf{u}, \\mathbf{v}$ be vectors. Then\n",
        "$$\n",
        "(A+\\mathbf{u}\\mathbf{v}^T)^{-1} = A^{-1} - \\frac{A^{-1}\\mathbf{u}\\mathbf{v}^TA^{-1}}{1+\\mathbf{v}^TA^{-1}\\mathbf{u}}.\n",
        "$$"
      ]
    },
    {
      "cell_type": "code",
      "metadata": {
        "id": "8FyQeq4vExlw",
        "colab_type": "code",
        "colab": {}
      },
      "source": [
        "def sherman_morrison(A, u, v):\n",
        "    return A - (A @ np.outer(u, v) @ A)/(1.0 + v.T @ A @ u)"
      ],
      "execution_count": 0,
      "outputs": []
    },
    {
      "cell_type": "code",
      "metadata": {
        "id": "AxRC2xoAUKKJ",
        "colab_type": "code",
        "colab": {}
      },
      "source": [
        "class OFUL:\n",
        "    def __init__(self, arm_features, reg_factor, delta,\n",
        "                 bound_theta, noise_std,iteration):\n",
        "        self.arm_features = arm_features\n",
        "        self.reg_factor = reg_factor\n",
        "        self.delta = delta\n",
        "        self.iteration = None\n",
        "        self.bound_theta = bound_theta\n",
        "        self.bound_features = np.max(np.sqrt(np.sum(np.abs(arm_features) ** 2, axis=1)))\n",
        "        self.noise_std = noise_std\n",
        "\n",
        "        self.reset()\n",
        "\n",
        "    @property\n",
        "    def n_actions(self):\n",
        "        return self.arm_features.shape[0]\n",
        "\n",
        "    @property\n",
        "    def n_features(self):\n",
        "        return self.arm_features.shape[1]\n",
        "    \n",
        "    def reset(self):\n",
        "        \"\"\"Return the internal estimates\n",
        "        \"\"\" \n",
        "        self.iteration = 0\n",
        "        self.A_inv = (1/self.reg_factor) * np.eye(self.n_features)\n",
        "        self.b = np.zeros(self.n_features)\n",
        "        self.theta = np.dot(self.A_inv,self.b)\n",
        "\n",
        "    def alpha(self) :\n",
        "      a = self.noise_std*math.sqrt(self.n_features*np.log((1+self.iteration*self.bound_features/self.reg_factor)/self.delta)) + math.sqrt(self.reg_factor)*self.bound_theta\n",
        "      return a\n",
        "\n",
        "    def sample_action(self) :\n",
        "        B = np.zeros(self.n_actions)\n",
        "        mu = np.dot(self.arm_features,self.theta)\n",
        "        for i in range(self.n_actions) :\n",
        "          B[i] = mu[i] + self.alpha()*math.sqrt(abs(np.dot(np.dot(self.arm_features[i],self.A_inv),self.arm_features[i])))\n",
        "        action = np.argmax(B)\n",
        "\n",
        "\n",
        "        return action\n",
        "    def update(self, a_t, r_t):\n",
        "        \"\"\"Update the estimates of the model\n",
        "        \n",
        "\n",
        "        Parameters\n",
        "        ----------\n",
        "        a_t: int\n",
        "            The action played at the current episode\n",
        "        r_t: float\n",
        "            The reward associated to action a_t\n",
        "\n",
        "        Returns\n",
        "        -------\n",
        "        none\n",
        "        \"\"\"\n",
        "        self.iteration += 1\n",
        "        u = self.arm_features[a_t]\n",
        "        self.A_inv = sherman_morrison(self.A_inv, u, u)\n",
        "        self.b = self.b + r_t* self.arm_features[a_t]\n",
        "        self.theta = np.dot(self.A_inv,self.b)\n",
        "        \n",
        "\n"
      ],
      "execution_count": 0,
      "outputs": []
    },
    {
      "cell_type": "markdown",
      "metadata": {
        "id": "OtwYcKlrK6UP",
        "colab_type": "text"
      },
      "source": [
        "**Question 2:** implement LinearTS"
      ]
    },
    {
      "cell_type": "markdown",
      "metadata": {
        "id": "9xl29-B3MEOC",
        "colab_type": "text"
      },
      "source": [
        "Let $A_t$ be the design matrix, $\\theta_t$ the estimate of $\\theta^\\star$ and $\\beta_t$ the confidence interval built by LinUCB. Then, at every time step t,  LinearTS simply generates\n",
        "a sample $\\tilde{\\theta}_t$ from the distribution $\\mathcal{N}(\\widehat{\\theta}_t, \\omega_t \\alpha_t^2 A_t^{-1})$.\n",
        "\n",
        "LinearTS\n",
        "\n",
        "For $t=1, \\ldots, T$\n",
        "> $\\tilde{\\theta}_t \\sim \\mathcal{N}(\\widehat{\\theta}_t, \\omega_t \\alpha_t^2 A_t^{-1})$\n",
        ">\n",
        "> $a_t \\in \\arg\\max_{a \\in \\mathcal{A}_t}  \\langle \\tilde{\\theta}_t, \\phi_{a} \\rangle$\n",
        ">\n",
        "> observe reward $r_t$\n",
        "\n",
        "TS is requires to draw $\\tilde{\\theta}_t$ from a distribution over-sampling by a factor $\\sqrt{d}$ the ellipsoid constructed by OFUL (i.e., $\\omega_t = d$). This is required to prove that LinearTS is optimistic with a fix probability. This is necessary to prove the frequentist regret of TS. The regret of TS is worse than the one of LinUCB by a factor $\\sqrt{d}$ (i.e., $\\widetilde{O}(d^{3/2}\\sqrt{T})$)"
      ]
    },
    {
      "cell_type": "code",
      "metadata": {
        "id": "zTJh0yqgUKKM",
        "colab_type": "code",
        "colab": {}
      },
      "source": [
        "class LinearTS(OFUL):\n",
        "    def __init__(self, arm_features, reg_factor, delta,\n",
        "                 bound_theta, noise_std,iteration):\n",
        "        super(LinearTS, self).__init__(arm_features, reg_factor, delta,\n",
        "                 bound_theta, noise_std,iteration)\n",
        "       \n",
        "\n",
        "    \n",
        "\n",
        "\n",
        "\n",
        "    def sample_action(self):\n",
        "        \"\"\"Return the action to play based on current estimates\n",
        "        \"\"\"\n",
        "        theta = np.random.multivariate_normal(self.theta,self.n_features*(self.alpha()**2)*self.A_inv)\n",
        "        action = np.argmax(np.dot(self.arm_features,self.theta))\n",
        "\n",
        "        return action\n",
        "    \n",
        "        "
      ],
      "execution_count": 0,
      "outputs": []
    },
    {
      "cell_type": "markdown",
      "metadata": {
        "id": "kKERx2_UUKKN",
        "colab_type": "text"
      },
      "source": [
        "**Question 3**: run the algorithms (`LinUCB` and `LinearTS`) and average the performance over multiple users (ie simulations)\n",
        "\n",
        "The regret $R(T) = \\sum_t \\phi_t^\\top (\\theta^\\star - \\theta_t)$\n",
        "\n",
        "The performance is the expected regret over multiple users. You can also test `LinearTS` without the additional $\\sqrt{d}$."
      ]
    },
    {
      "cell_type": "markdown",
      "metadata": {
        "id": "urKPGY9vXxRn",
        "colab_type": "text"
      },
      "source": [
        "You can use `RandomLinearArms` to test your code before using Jester"
      ]
    },
    {
      "cell_type": "code",
      "metadata": {
        "id": "Y1pezF4JUKKO",
        "colab_type": "code",
        "outputId": "73d83451-f385-4bc2-c48f-90b7ba2cbdd4",
        "colab": {
          "base_uri": "https://localhost:8080/",
          "height": 156
        }
      },
      "source": [
        "from mvarl_hands_on.utils.coldstart import RandomLinearArms\n",
        "\n",
        "nb_simulations = 4\n",
        "T = int(4e4)\n",
        "\n",
        "\n",
        "algorithms = {\n",
        "            'OFUL': lambda arm_features, bound_theta: \n",
        "              OFUL(arm_features=arm_features, reg_factor=1., delta=0.01,\n",
        "                 bound_theta=bound_theta, noise_std=config_cs['noise_std'],iteration=T),\n",
        "             'LinearTS': lambda arm_features, bound_theta:\n",
        "              LinearTS(arm_features=arm_features, reg_factor=1., delta=0.01,\n",
        "                 bound_theta=bound_theta, noise_std=config_cs['noise_std'],iteration=T)\n",
        "             }\n",
        "\n",
        "regrets = {}\n",
        "\n",
        "for alg_name in algorithms.keys():\n",
        "    if alg_name not in regrets.keys():\n",
        "        regrets[alg_name] = np.zeros((nb_simulations, T))\n",
        "    \n",
        "    for k in range(nb_simulations):\n",
        "        if k % 1 == 0:\n",
        "            print(\"{} simulation {}/{}\".format(alg_name, k+1, nb_simulations))\n",
        "        model = ColdStartFromDataset(**config_cs)\n",
        "        #model = RandomLinearArms()\n",
        "        alg = algorithms[alg_name](arm_features=model.features, bound_theta=np.linalg.norm(model.theta, 2))\n",
        "        #TODO: implement interaction loop\n",
        "        for t in range(T):\n",
        "          action = alg.sample_action()\n",
        "          reward = model.reward(action)\n",
        "          alg.update(action,reward)\n",
        "          #regrets[alg_name][k,t] = np.dot(alg.arm_features[action],model.theta-alg.theta) # the regret expression in question 3\n",
        "          regrets[alg_name][k,t] = model.best_arm_reward() - reward # expression in the introduction of the homework\n"
      ],
      "execution_count": 27,
      "outputs": [
        {
          "output_type": "stream",
          "text": [
            "OFUL simulation 1/4\n",
            "OFUL simulation 2/4\n",
            "OFUL simulation 3/4\n",
            "OFUL simulation 4/4\n",
            "LinearTS simulation 1/4\n",
            "LinearTS simulation 2/4\n",
            "LinearTS simulation 3/4\n",
            "LinearTS simulation 4/4\n"
          ],
          "name": "stdout"
        }
      ]
    },
    {
      "cell_type": "code",
      "metadata": {
        "id": "vz5uoLmvUKKP",
        "colab_type": "code",
        "outputId": "911357d3-066c-4669-c6b0-bdacb5d0a819",
        "colab": {
          "base_uri": "https://localhost:8080/",
          "height": 500
        }
      },
      "source": [
        "plt.figure(figsize=(10,8))\n",
        "for alg_name in regrets.keys():\n",
        "    data = np.cumsum(regrets[alg_name], axis=1)\n",
        "    n_rep, T = data.shape\n",
        "    \n",
        "    mean_regret = np.mean(data, axis=0)\n",
        "    std_regret = np.std(data, axis=0) / math.sqrt(n_rep)\n",
        "    t = np.arange(T)\n",
        "    plt.plot(t, mean_regret, label=alg_name)\n",
        "    plt.fill_between(t, mean_regret - 2 * std_regret, mean_regret + 2 * std_regret, alpha=0.15)\n",
        "plt.legend()\n",
        "    "
      ],
      "execution_count": 28,
      "outputs": [
        {
          "output_type": "execute_result",
          "data": {
            "text/plain": [
              "<matplotlib.legend.Legend at 0x7f94174c9860>"
            ]
          },
          "metadata": {
            "tags": []
          },
          "execution_count": 28
        },
        {
          "output_type": "display_data",
          "data": {
            "image/png": "[encoded data removed]",
            "text/plain": [
              "<Figure size 720x576 with 1 Axes>"
            ]
          },
          "metadata": {
            "tags": []
          }
        }
      ]
    }
  ]
}